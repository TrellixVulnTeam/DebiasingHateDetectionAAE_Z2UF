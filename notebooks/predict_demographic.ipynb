{
 "cells": [
  {
   "cell_type": "code",
   "execution_count": 43,
   "metadata": {
    "collapsed": true,
    "pycharm": {
     "is_executing": false
    }
   },
   "outputs": [],
   "source": [
    "import pandas as pd\n",
    "import numpy as np\n",
    "import os\n",
    "import torch\n",
    "import os\n",
    "import sys\n",
    "sys.path.insert(0, os.path.abspath('../')) # needed to import src\n",
    "from src.twitteraae.code.predict import Predict\n",
    "from sklearn.model_selection import train_test_split\n",
    "#print(os.getcwd())\n",
    "# print(sys.path)\n",
    "# import src.twitteraae.code.predict\n"
   ]
  },
  {
   "cell_type": "code",
   "execution_count": 44,
   "outputs": [
    {
     "data": {
      "text/plain": "          ID  Annotator                                               Text  \\\n0      27044          4  Ah the PSYOPS antifa crew is back. That’s how ...   \n1      27044         15  Ah the PSYOPS antifa crew is back. That’s how ...   \n2      27044         10  Ah the PSYOPS antifa crew is back. That’s how ...   \n3      27044          8  Ah the PSYOPS antifa crew is back. That’s how ...   \n4      27045          4  Get the new Android app update released today ...   \n...      ...        ...                                                ...   \n86524   9188          6  He thinks only peons own guns, you're supposed...   \n86525   9188          3  He thinks only peons own guns, you're supposed...   \n86526   9222         11     America must stop funding the United Nations.    \n86527   9222          3     America must stop funding the United Nations.    \n86528   9222          6     America must stop funding the United Nations.    \n\n       Hate  HD  CV  VO  REL  RAE  SXO  GEN  IDL  NAT  POL  MPH   EX   IM  \n0         0   0   0   0  NaN  NaN  NaN  NaN  NaN  NaN  NaN  NaN  NaN  NaN  \n1         0   0   0   0  NaN  NaN  NaN  NaN  NaN  NaN  NaN  NaN  NaN  NaN  \n2         0   0   0   0  NaN  NaN  NaN  NaN  NaN  NaN  NaN  NaN  NaN  NaN  \n3         0   0   0   0  NaN  NaN  NaN  NaN  NaN  NaN  NaN  NaN  NaN  NaN  \n4         0   0   0   0  NaN  NaN  NaN  NaN  NaN  NaN  NaN  NaN  NaN  NaN  \n...     ...  ..  ..  ..  ...  ...  ...  ...  ...  ...  ...  ...  ...  ...  \n86524     1   1   0   0  0.0  0.0  0.0  0.0  1.0  0.0  0.0  0.0  1.0  0.0  \n86525     0   0   0   0  NaN  NaN  NaN  NaN  NaN  NaN  NaN  NaN  NaN  NaN  \n86526     0   0   0   0  NaN  NaN  NaN  NaN  NaN  NaN  NaN  NaN  NaN  NaN  \n86527     0   0   0   0  NaN  NaN  NaN  NaN  NaN  NaN  NaN  NaN  NaN  NaN  \n86528     0   0   0   0  NaN  NaN  NaN  NaN  NaN  NaN  NaN  NaN  NaN  NaN  \n\n[86529 rows x 17 columns]",
      "text/html": "<div>\n<style scoped>\n    .dataframe tbody tr th:only-of-type {\n        vertical-align: middle;\n    }\n\n    .dataframe tbody tr th {\n        vertical-align: top;\n    }\n\n    .dataframe thead th {\n        text-align: right;\n    }\n</style>\n<table border=\"1\" class=\"dataframe\">\n  <thead>\n    <tr style=\"text-align: right;\">\n      <th></th>\n      <th>ID</th>\n      <th>Annotator</th>\n      <th>Text</th>\n      <th>Hate</th>\n      <th>HD</th>\n      <th>CV</th>\n      <th>VO</th>\n      <th>REL</th>\n      <th>RAE</th>\n      <th>SXO</th>\n      <th>GEN</th>\n      <th>IDL</th>\n      <th>NAT</th>\n      <th>POL</th>\n      <th>MPH</th>\n      <th>EX</th>\n      <th>IM</th>\n    </tr>\n  </thead>\n  <tbody>\n    <tr>\n      <th>0</th>\n      <td>27044</td>\n      <td>4</td>\n      <td>Ah the PSYOPS antifa crew is back. That’s how ...</td>\n      <td>0</td>\n      <td>0</td>\n      <td>0</td>\n      <td>0</td>\n      <td>NaN</td>\n      <td>NaN</td>\n      <td>NaN</td>\n      <td>NaN</td>\n      <td>NaN</td>\n      <td>NaN</td>\n      <td>NaN</td>\n      <td>NaN</td>\n      <td>NaN</td>\n      <td>NaN</td>\n    </tr>\n    <tr>\n      <th>1</th>\n      <td>27044</td>\n      <td>15</td>\n      <td>Ah the PSYOPS antifa crew is back. That’s how ...</td>\n      <td>0</td>\n      <td>0</td>\n      <td>0</td>\n      <td>0</td>\n      <td>NaN</td>\n      <td>NaN</td>\n      <td>NaN</td>\n      <td>NaN</td>\n      <td>NaN</td>\n      <td>NaN</td>\n      <td>NaN</td>\n      <td>NaN</td>\n      <td>NaN</td>\n      <td>NaN</td>\n    </tr>\n    <tr>\n      <th>2</th>\n      <td>27044</td>\n      <td>10</td>\n      <td>Ah the PSYOPS antifa crew is back. That’s how ...</td>\n      <td>0</td>\n      <td>0</td>\n      <td>0</td>\n      <td>0</td>\n      <td>NaN</td>\n      <td>NaN</td>\n      <td>NaN</td>\n      <td>NaN</td>\n      <td>NaN</td>\n      <td>NaN</td>\n      <td>NaN</td>\n      <td>NaN</td>\n      <td>NaN</td>\n      <td>NaN</td>\n    </tr>\n    <tr>\n      <th>3</th>\n      <td>27044</td>\n      <td>8</td>\n      <td>Ah the PSYOPS antifa crew is back. That’s how ...</td>\n      <td>0</td>\n      <td>0</td>\n      <td>0</td>\n      <td>0</td>\n      <td>NaN</td>\n      <td>NaN</td>\n      <td>NaN</td>\n      <td>NaN</td>\n      <td>NaN</td>\n      <td>NaN</td>\n      <td>NaN</td>\n      <td>NaN</td>\n      <td>NaN</td>\n      <td>NaN</td>\n    </tr>\n    <tr>\n      <th>4</th>\n      <td>27045</td>\n      <td>4</td>\n      <td>Get the new Android app update released today ...</td>\n      <td>0</td>\n      <td>0</td>\n      <td>0</td>\n      <td>0</td>\n      <td>NaN</td>\n      <td>NaN</td>\n      <td>NaN</td>\n      <td>NaN</td>\n      <td>NaN</td>\n      <td>NaN</td>\n      <td>NaN</td>\n      <td>NaN</td>\n      <td>NaN</td>\n      <td>NaN</td>\n    </tr>\n    <tr>\n      <th>...</th>\n      <td>...</td>\n      <td>...</td>\n      <td>...</td>\n      <td>...</td>\n      <td>...</td>\n      <td>...</td>\n      <td>...</td>\n      <td>...</td>\n      <td>...</td>\n      <td>...</td>\n      <td>...</td>\n      <td>...</td>\n      <td>...</td>\n      <td>...</td>\n      <td>...</td>\n      <td>...</td>\n      <td>...</td>\n    </tr>\n    <tr>\n      <th>86524</th>\n      <td>9188</td>\n      <td>6</td>\n      <td>He thinks only peons own guns, you're supposed...</td>\n      <td>1</td>\n      <td>1</td>\n      <td>0</td>\n      <td>0</td>\n      <td>0.0</td>\n      <td>0.0</td>\n      <td>0.0</td>\n      <td>0.0</td>\n      <td>1.0</td>\n      <td>0.0</td>\n      <td>0.0</td>\n      <td>0.0</td>\n      <td>1.0</td>\n      <td>0.0</td>\n    </tr>\n    <tr>\n      <th>86525</th>\n      <td>9188</td>\n      <td>3</td>\n      <td>He thinks only peons own guns, you're supposed...</td>\n      <td>0</td>\n      <td>0</td>\n      <td>0</td>\n      <td>0</td>\n      <td>NaN</td>\n      <td>NaN</td>\n      <td>NaN</td>\n      <td>NaN</td>\n      <td>NaN</td>\n      <td>NaN</td>\n      <td>NaN</td>\n      <td>NaN</td>\n      <td>NaN</td>\n      <td>NaN</td>\n    </tr>\n    <tr>\n      <th>86526</th>\n      <td>9222</td>\n      <td>11</td>\n      <td>America must stop funding the United Nations.</td>\n      <td>0</td>\n      <td>0</td>\n      <td>0</td>\n      <td>0</td>\n      <td>NaN</td>\n      <td>NaN</td>\n      <td>NaN</td>\n      <td>NaN</td>\n      <td>NaN</td>\n      <td>NaN</td>\n      <td>NaN</td>\n      <td>NaN</td>\n      <td>NaN</td>\n      <td>NaN</td>\n    </tr>\n    <tr>\n      <th>86527</th>\n      <td>9222</td>\n      <td>3</td>\n      <td>America must stop funding the United Nations.</td>\n      <td>0</td>\n      <td>0</td>\n      <td>0</td>\n      <td>0</td>\n      <td>NaN</td>\n      <td>NaN</td>\n      <td>NaN</td>\n      <td>NaN</td>\n      <td>NaN</td>\n      <td>NaN</td>\n      <td>NaN</td>\n      <td>NaN</td>\n      <td>NaN</td>\n      <td>NaN</td>\n    </tr>\n    <tr>\n      <th>86528</th>\n      <td>9222</td>\n      <td>6</td>\n      <td>America must stop funding the United Nations.</td>\n      <td>0</td>\n      <td>0</td>\n      <td>0</td>\n      <td>0</td>\n      <td>NaN</td>\n      <td>NaN</td>\n      <td>NaN</td>\n      <td>NaN</td>\n      <td>NaN</td>\n      <td>NaN</td>\n      <td>NaN</td>\n      <td>NaN</td>\n      <td>NaN</td>\n      <td>NaN</td>\n    </tr>\n  </tbody>\n</table>\n<p>86529 rows × 17 columns</p>\n</div>"
     },
     "metadata": {},
     "output_type": "execute_result",
     "execution_count": 44
    }
   ],
   "source": [
    "gab_data = pd.read_csv('../data/GabHateCorpus_annotations.tsv', sep='\\t', header=0)\n",
    "gab_data"
   ],
   "metadata": {
    "collapsed": false,
    "pycharm": {
     "name": "#%%\n",
     "is_executing": false
    }
   }
  },
  {
   "cell_type": "code",
   "execution_count": 45,
   "outputs": [
    {
     "name": "stdout",
     "text": [
      "shape of GAB: (86529, 17)\n# of unique posts: 27665\n"
     ],
     "output_type": "stream"
    }
   ],
   "source": [
    "print('shape of GAB:', gab_data.shape) # (86529, 17)\n",
    "print('# of unique posts:', len(gab_data['ID'].unique())) # 27665 "
   ],
   "metadata": {
    "collapsed": false,
    "pycharm": {
     "name": "#%%\n",
     "is_executing": false
    }
   }
  },
  {
   "cell_type": "code",
   "execution_count": 46,
   "outputs": [
    {
     "data": {
      "text/plain": "'\\nprocessing of this dataset is done from section 4 of the paper here: https://osf.io/nqt6h/\\nCV (\"Call for Violence\"), HD (an \"Assault on Human Dignity\"), HD and CV, or NH (\"Not Hateful\").\\nIf none apply, the document is to be considered NH (\"Not Hateful\"). Vulgarity/Offensive Language directed at an indi-\\nvidual (VO)\\n\\nTargeted Populations\\nThis column should be used to identify which types of groups are targeted by\\nthe hateful rhetoric. Select all descriptors which apply.\\n- RAE: Race or ethnicity (includes anti-asian, anti-latino, anti-black, anti-arab, anti-semitism etc.)\\n- NAT: Nationality/regionalism (includes general xenophobia and targets against countries/regions)\\n- GEN: Gender (anti-woman, anti-man, anti-trans etc.)\\n- REL: Religion/spiritual beliefs (anti-muslim, anti-christian, etc.)\\n- SXO: Sexual Orientation\\n- IDL: Ideology (conservative/liberal/leftist/right-wing)\\n- POL: Political identification. Includes any reference to membership in a political organization (Democratic/Republican/ etc.).\\n- MPH: Mental/physical health status, physical disability.\\n\\nAlso EX/IM if the speech is explicit or implicit.\\n\\n- turned into binary label with union of the cv/hd\\n'"
     },
     "metadata": {},
     "output_type": "execute_result",
     "execution_count": 46
    }
   ],
   "source": [
    "'''\n",
    "processing of this dataset is done from section 4 of the paper here: https://osf.io/nqt6h/\n",
    "CV (\"Call for Violence\"), HD (an \"Assault on Human Dignity\"), HD and CV, or NH (\"Not Hateful\").\n",
    "If none apply, the document is to be considered NH (\"Not Hateful\"). Vulgarity/Offensive Language directed at an indi-\n",
    "vidual (VO)\n",
    "\n",
    "Targeted Populations\n",
    "This column should be used to identify which types of groups are targeted by\n",
    "the hateful rhetoric. Select all descriptors which apply.\n",
    "- RAE: Race or ethnicity (includes anti-asian, anti-latino, anti-black, anti-arab, anti-semitism etc.)\n",
    "- NAT: Nationality/regionalism (includes general xenophobia and targets against countries/regions)\n",
    "- GEN: Gender (anti-woman, anti-man, anti-trans etc.)\n",
    "- REL: Religion/spiritual beliefs (anti-muslim, anti-christian, etc.)\n",
    "- SXO: Sexual Orientation\n",
    "- IDL: Ideology (conservative/liberal/leftist/right-wing)\n",
    "- POL: Political identification. Includes any reference to membership in a political organization (Democratic/Republican/ etc.).\n",
    "- MPH: Mental/physical health status, physical disability.\n",
    "\n",
    "Also EX/IM if the speech is explicit or implicit.\n",
    "\n",
    "- turned into binary label with union of the cv/hd\n",
    "'''\n"
   ],
   "metadata": {
    "collapsed": false,
    "pycharm": {
     "name": "#%%\n",
     "is_executing": false
    }
   }
  },
  {
   "cell_type": "code",
   "execution_count": 47,
   "outputs": [
    {
     "name": "stdout",
     "text": [
      "num of hate labels using median: 2337\nnum of hate labels using mean rounded >0.5: 2337\nnum of hate labels using >= 1: 7813\nnum of hate labels using >1: 2607\nnum_annotators summary stats: count    27665.000000\nmean         3.127743\nstd          0.393913\nmin          2.000000\n25%          3.000000\n50%          3.000000\n75%          3.000000\nmax          8.000000\nName: num_annotators, dtype: float64\n"
     ],
     "output_type": "stream"
    }
   ],
   "source": [
    "# add binary label and investigation of aggregation methods\n",
    "counts_df = gab_data.groupby([\"ID\"]).agg(num_annotators=('ID', 'count'),\n",
    "                                         num_hate_label=('Hate','sum'),\n",
    "                                         median_hate_label=('Hate','median'),\n",
    "                                         mean_hate_label=('Hate','mean'))\n",
    "\n",
    "# counts_df.rename(columns={'count':'num_annotators', 'sum':'num_hate_label','median':'median_hate_label', 'mean': 'mean_hate_label'}, inplace=True)\n",
    "# counts_df.columns = counts_df.columns.droplevel(0)\n",
    "counts_df['round_mean_hate_label'] = counts_df['mean_hate_label']\n",
    "counts_df = counts_df.round({'round_mean_hate_label':0})\n",
    "\n",
    "print('num of hate labels using median:', len(counts_df.loc[counts_df['median_hate_label']==1])) # 2337, in paper there is 2399\n",
    "print('num of hate labels using mean rounded >0.5:', len(counts_df.loc[counts_df['round_mean_hate_label']==1])) # 2337, in paper there is 2399\n",
    "print('num of hate labels using >= 1:', len(counts_df.loc[counts_df['num_hate_label']>=1])) #7813\n",
    "print('num of hate labels using >1:', len(counts_df.loc[counts_df['num_hate_label']>1])) #2607\n",
    "print('num_annotators summary stats:',counts_df['num_annotators'].describe())\n",
    "# counts_df"
   ],
   "metadata": {
    "collapsed": false,
    "pycharm": {
     "name": "#%%\n",
     "is_executing": false
    }
   }
  },
  {
   "cell_type": "code",
   "execution_count": 51,
   "outputs": [
    {
     "name": "stdout",
     "text": [
      "['ID' 'Annotator' 'Text' 'Hate' 'HD' 'CV' 'VO' 'REL' 'RAE' 'SXO' 'GEN'\n 'IDL' 'NAT' 'POL' 'MPH' 'EX' 'IM' 'median_hate_label']\n"
     ],
     "output_type": "stream"
    }
   ],
   "source": [
    "# join the label to each id\n",
    "gab_data = gab_data.join(how='left',other=counts_df[['median_hate_label']], on='ID')\n",
    "gab_data.fillna(0,inplace=True)\n",
    "# gab_data.rename(columns={'median_hate_label':'is_hate'})\n",
    "print(gab_data.columns.values)\n",
    "# gab_data"
   ],
   "metadata": {
    "collapsed": false,
    "pycharm": {
     "name": "#%%\n",
     "is_executing": false
    }
   }
  },
  {
   "cell_type": "code",
   "execution_count": 52,
   "outputs": [
    {
     "data": {
      "text/plain": "                                                    Text  text_id  is_hate  \\\nID                                                                           \n0                         Can't wait to see that Monday.        0      0.0   \n1      If you are from #Europe and care about #freeSp...        1      0.0   \n2      #FREESAMHYDE http://www.thegatewaypundit.com/2...        2      0.0   \n3      most disgusting people: - third worlders - gay...        3      1.0   \n4      JUST FOUND OUT BLACKS CONTROL THE GOVERNMENT, ...        4      0.0   \n...                                                  ...      ...      ...   \n27660  YESSSS.  Impeach RR.  Untenable.  Intractably ...    27660      0.0   \n27661    Not to mention presidents nixon reagan and bush    27661      0.0   \n27662  Booker T Washington was an extraordinary Ameri...    27662      0.0   \n27663  Even Sargon is better than shit tier Rick Wils...    27663      0.0   \n27664  Pantera was a great band. He was always in SAB...    27664      0.0   \n\n        hd   cv   vo  rel  rae  sxo  gen  idl  nat  pol  mph   ex   im  \nID                                                                      \n0      0.0  0.0  0.0  0.0  0.0  0.0  0.0  0.0  0.0  0.0  0.0  0.0  0.0  \n1      0.0  0.0  0.0  0.0  0.0  0.0  0.0  0.0  0.0  0.0  0.0  0.0  0.0  \n2      0.0  0.0  0.0  0.0  0.0  0.0  0.0  0.0  0.0  0.0  0.0  0.0  0.0  \n3      1.0  0.0  0.0  0.0  0.0  1.0  0.0  0.0  1.0  0.0  0.0  0.0  0.0  \n4      0.0  0.0  0.0  0.0  0.0  0.0  0.0  0.0  0.0  0.0  0.0  0.0  0.0  \n...    ...  ...  ...  ...  ...  ...  ...  ...  ...  ...  ...  ...  ...  \n27660  0.0  0.0  0.0  0.0  0.0  0.0  0.0  0.0  0.0  0.0  0.0  0.0  0.0  \n27661  0.0  0.0  0.0  0.0  0.0  0.0  0.0  0.0  0.0  0.0  0.0  0.0  0.0  \n27662  0.0  0.0  0.0  0.0  0.0  0.0  0.0  0.0  0.0  0.0  0.0  0.0  0.0  \n27663  0.0  0.0  0.0  0.0  0.0  0.0  0.0  0.0  0.0  0.0  0.0  0.0  0.0  \n27664  0.0  0.0  0.0  0.0  0.0  0.0  0.0  0.0  0.0  0.0  0.0  0.0  0.0  \n\n[27665 rows x 16 columns]",
      "text/html": "<div>\n<style scoped>\n    .dataframe tbody tr th:only-of-type {\n        vertical-align: middle;\n    }\n\n    .dataframe tbody tr th {\n        vertical-align: top;\n    }\n\n    .dataframe thead th {\n        text-align: right;\n    }\n</style>\n<table border=\"1\" class=\"dataframe\">\n  <thead>\n    <tr style=\"text-align: right;\">\n      <th></th>\n      <th>Text</th>\n      <th>text_id</th>\n      <th>is_hate</th>\n      <th>hd</th>\n      <th>cv</th>\n      <th>vo</th>\n      <th>rel</th>\n      <th>rae</th>\n      <th>sxo</th>\n      <th>gen</th>\n      <th>idl</th>\n      <th>nat</th>\n      <th>pol</th>\n      <th>mph</th>\n      <th>ex</th>\n      <th>im</th>\n    </tr>\n    <tr>\n      <th>ID</th>\n      <th></th>\n      <th></th>\n      <th></th>\n      <th></th>\n      <th></th>\n      <th></th>\n      <th></th>\n      <th></th>\n      <th></th>\n      <th></th>\n      <th></th>\n      <th></th>\n      <th></th>\n      <th></th>\n      <th></th>\n      <th></th>\n    </tr>\n  </thead>\n  <tbody>\n    <tr>\n      <th>0</th>\n      <td>Can't wait to see that Monday.</td>\n      <td>0</td>\n      <td>0.0</td>\n      <td>0.0</td>\n      <td>0.0</td>\n      <td>0.0</td>\n      <td>0.0</td>\n      <td>0.0</td>\n      <td>0.0</td>\n      <td>0.0</td>\n      <td>0.0</td>\n      <td>0.0</td>\n      <td>0.0</td>\n      <td>0.0</td>\n      <td>0.0</td>\n      <td>0.0</td>\n    </tr>\n    <tr>\n      <th>1</th>\n      <td>If you are from #Europe and care about #freeSp...</td>\n      <td>1</td>\n      <td>0.0</td>\n      <td>0.0</td>\n      <td>0.0</td>\n      <td>0.0</td>\n      <td>0.0</td>\n      <td>0.0</td>\n      <td>0.0</td>\n      <td>0.0</td>\n      <td>0.0</td>\n      <td>0.0</td>\n      <td>0.0</td>\n      <td>0.0</td>\n      <td>0.0</td>\n      <td>0.0</td>\n    </tr>\n    <tr>\n      <th>2</th>\n      <td>#FREESAMHYDE http://www.thegatewaypundit.com/2...</td>\n      <td>2</td>\n      <td>0.0</td>\n      <td>0.0</td>\n      <td>0.0</td>\n      <td>0.0</td>\n      <td>0.0</td>\n      <td>0.0</td>\n      <td>0.0</td>\n      <td>0.0</td>\n      <td>0.0</td>\n      <td>0.0</td>\n      <td>0.0</td>\n      <td>0.0</td>\n      <td>0.0</td>\n      <td>0.0</td>\n    </tr>\n    <tr>\n      <th>3</th>\n      <td>most disgusting people: - third worlders - gay...</td>\n      <td>3</td>\n      <td>1.0</td>\n      <td>1.0</td>\n      <td>0.0</td>\n      <td>0.0</td>\n      <td>0.0</td>\n      <td>0.0</td>\n      <td>1.0</td>\n      <td>0.0</td>\n      <td>0.0</td>\n      <td>1.0</td>\n      <td>0.0</td>\n      <td>0.0</td>\n      <td>0.0</td>\n      <td>0.0</td>\n    </tr>\n    <tr>\n      <th>4</th>\n      <td>JUST FOUND OUT BLACKS CONTROL THE GOVERNMENT, ...</td>\n      <td>4</td>\n      <td>0.0</td>\n      <td>0.0</td>\n      <td>0.0</td>\n      <td>0.0</td>\n      <td>0.0</td>\n      <td>0.0</td>\n      <td>0.0</td>\n      <td>0.0</td>\n      <td>0.0</td>\n      <td>0.0</td>\n      <td>0.0</td>\n      <td>0.0</td>\n      <td>0.0</td>\n      <td>0.0</td>\n    </tr>\n    <tr>\n      <th>...</th>\n      <td>...</td>\n      <td>...</td>\n      <td>...</td>\n      <td>...</td>\n      <td>...</td>\n      <td>...</td>\n      <td>...</td>\n      <td>...</td>\n      <td>...</td>\n      <td>...</td>\n      <td>...</td>\n      <td>...</td>\n      <td>...</td>\n      <td>...</td>\n      <td>...</td>\n      <td>...</td>\n    </tr>\n    <tr>\n      <th>27660</th>\n      <td>YESSSS.  Impeach RR.  Untenable.  Intractably ...</td>\n      <td>27660</td>\n      <td>0.0</td>\n      <td>0.0</td>\n      <td>0.0</td>\n      <td>0.0</td>\n      <td>0.0</td>\n      <td>0.0</td>\n      <td>0.0</td>\n      <td>0.0</td>\n      <td>0.0</td>\n      <td>0.0</td>\n      <td>0.0</td>\n      <td>0.0</td>\n      <td>0.0</td>\n      <td>0.0</td>\n    </tr>\n    <tr>\n      <th>27661</th>\n      <td>Not to mention presidents nixon reagan and bush</td>\n      <td>27661</td>\n      <td>0.0</td>\n      <td>0.0</td>\n      <td>0.0</td>\n      <td>0.0</td>\n      <td>0.0</td>\n      <td>0.0</td>\n      <td>0.0</td>\n      <td>0.0</td>\n      <td>0.0</td>\n      <td>0.0</td>\n      <td>0.0</td>\n      <td>0.0</td>\n      <td>0.0</td>\n      <td>0.0</td>\n    </tr>\n    <tr>\n      <th>27662</th>\n      <td>Booker T Washington was an extraordinary Ameri...</td>\n      <td>27662</td>\n      <td>0.0</td>\n      <td>0.0</td>\n      <td>0.0</td>\n      <td>0.0</td>\n      <td>0.0</td>\n      <td>0.0</td>\n      <td>0.0</td>\n      <td>0.0</td>\n      <td>0.0</td>\n      <td>0.0</td>\n      <td>0.0</td>\n      <td>0.0</td>\n      <td>0.0</td>\n      <td>0.0</td>\n    </tr>\n    <tr>\n      <th>27663</th>\n      <td>Even Sargon is better than shit tier Rick Wils...</td>\n      <td>27663</td>\n      <td>0.0</td>\n      <td>0.0</td>\n      <td>0.0</td>\n      <td>0.0</td>\n      <td>0.0</td>\n      <td>0.0</td>\n      <td>0.0</td>\n      <td>0.0</td>\n      <td>0.0</td>\n      <td>0.0</td>\n      <td>0.0</td>\n      <td>0.0</td>\n      <td>0.0</td>\n      <td>0.0</td>\n    </tr>\n    <tr>\n      <th>27664</th>\n      <td>Pantera was a great band. He was always in SAB...</td>\n      <td>27664</td>\n      <td>0.0</td>\n      <td>0.0</td>\n      <td>0.0</td>\n      <td>0.0</td>\n      <td>0.0</td>\n      <td>0.0</td>\n      <td>0.0</td>\n      <td>0.0</td>\n      <td>0.0</td>\n      <td>0.0</td>\n      <td>0.0</td>\n      <td>0.0</td>\n      <td>0.0</td>\n      <td>0.0</td>\n    </tr>\n  </tbody>\n</table>\n<p>27665 rows × 16 columns</p>\n</div>"
     },
     "metadata": {},
     "output_type": "execute_result",
     "execution_count": 52
    }
   ],
   "source": [
    "# assuming here median label is majority\n",
    "cleaned_gab_data = gab_data.groupby('ID',).agg(\n",
    "    Text=('Text', 'first'),\n",
    "    text_id=('ID','first'),\n",
    "    is_hate=('median_hate_label', 'median'),\n",
    "    hd=('HD', 'median'),\n",
    "    cv=('CV', 'median'),\n",
    "    vo=('VO', 'median'),\n",
    "    rel=('REL', 'median'),\n",
    "    rae=('RAE', 'median'),\n",
    "    sxo=('SXO', 'median'),\n",
    "    gen=('GEN', 'median'),\n",
    "    idl=('IDL', 'median'),\n",
    "    nat=('NAT', 'median'),\n",
    "    pol=('POL', 'median'),\n",
    "    mph=('MPH', 'median'),\n",
    "    ex=('EX', 'median'),\n",
    "    im=('IM', 'median'),\n",
    ")\n",
    "cleaned_gab_data"
   ],
   "metadata": {
    "collapsed": false,
    "pycharm": {
     "name": "#%%\n",
     "is_executing": false
    }
   }
  },
  {
   "cell_type": "code",
   "execution_count": 53,
   "outputs": [
    {
     "name": "stdout",
     "text": [
      "C:\\Users\\matan\\OneDrive\\Documents\\OMSCS\\Thesis\\Code\\HateSpeech\\notebooks\n"
     ],
     "output_type": "stream"
    }
   ],
   "source": [
    "twitteraae_predict = Predict(vocabfile='../src/twitteraae/model/model_vocab.txt',\n",
    "                             modelfile='../src/twitteraae/model/model_count_table.txt')\n",
    "twitteraae_predict.load_model()\n",
    "# Output proportions are for the African-American, Hispanic, Asian, and White topics\n",
    "#"
   ],
   "metadata": {
    "collapsed": false,
    "pycharm": {
     "name": "#%%\n",
     "is_executing": false
    }
   }
  },
  {
   "cell_type": "code",
   "execution_count": 54,
   "outputs": [],
   "source": [
    "# recommended to assign dialict labels to tweets with dialect probabilities > 80%\n",
    "cleaned_gab_data['twitter_aae'] = cleaned_gab_data.apply(lambda row: twitteraae_predict.predict(row['Text']), axis=1)\n",
    "cleaned_gab_data['is_aae'] = cleaned_gab_data['twitter_aae'].str[0] >= 0.8\n",
    "cleaned_gab_data['is_aae'] = cleaned_gab_data['is_aae'].astype(int) # only 1 is marked as aae by dialect\n",
    "# cleaned_gab_data.loc[cleaned_gab_data['is_aae']==1]"
   ],
   "metadata": {
    "collapsed": false,
    "pycharm": {
     "name": "#%%\n",
     "is_executing": false
    }
   }
  },
  {
   "cell_type": "code",
   "execution_count": 40,
   "outputs": [],
   "source": [
    "# cleaned_gab_data.to_json(orient='records', lines=True, index=True, path_or_buf='../data/majority_gab_dataset_25k')\n",
    "#todo get stratified from target population for 80/20 split."
   ],
   "metadata": {
    "collapsed": false,
    "pycharm": {
     "name": "#%%\n",
     "is_executing": false
    }
   }
  },
  {
   "cell_type": "code",
   "execution_count": 64,
   "outputs": [
    {
     "traceback": [
      "\u001b[1;31m---------------------------------------------------------------------------\u001b[0m",
      "\u001b[1;31mValueError\u001b[0m                                Traceback (most recent call last)",
      "\u001b[1;32m<ipython-input-64-55972181e435>\u001b[0m in \u001b[0;36m<module>\u001b[1;34m\u001b[0m\n\u001b[1;32m----> 1\u001b[1;33m \u001b[0mtrain_gab\u001b[0m\u001b[1;33m,\u001b[0m \u001b[0mtest_gab\u001b[0m \u001b[1;33m=\u001b[0m \u001b[0mtrain_test_split\u001b[0m\u001b[1;33m(\u001b[0m\u001b[0mcleaned_gab_data\u001b[0m\u001b[1;33m,\u001b[0m \u001b[0mtest_size\u001b[0m\u001b[1;33m=\u001b[0m\u001b[1;36m0.2\u001b[0m\u001b[1;33m,\u001b[0m \u001b[0mstratify\u001b[0m\u001b[1;33m=\u001b[0m\u001b[1;33m[\u001b[0m\u001b[1;34m'is_hate'\u001b[0m\u001b[1;33m]\u001b[0m\u001b[1;33m)\u001b[0m\u001b[1;33m\u001b[0m\u001b[1;33m\u001b[0m\u001b[0m\n\u001b[0m\u001b[0;32m      2\u001b[0m \u001b[1;33m\u001b[0m\u001b[0m\n",
      "\u001b[1;32m~\\Anaconda3\\lib\\site-packages\\sklearn\\model_selection\\_split.py\u001b[0m in \u001b[0;36mtrain_test_split\u001b[1;34m(*arrays, **options)\u001b[0m\n\u001b[0;32m   2054\u001b[0m                      random_state=random_state)\n\u001b[0;32m   2055\u001b[0m \u001b[1;33m\u001b[0m\u001b[0m\n\u001b[1;32m-> 2056\u001b[1;33m         \u001b[0mtrain\u001b[0m\u001b[1;33m,\u001b[0m \u001b[0mtest\u001b[0m \u001b[1;33m=\u001b[0m \u001b[0mnext\u001b[0m\u001b[1;33m(\u001b[0m\u001b[0mcv\u001b[0m\u001b[1;33m.\u001b[0m\u001b[0msplit\u001b[0m\u001b[1;33m(\u001b[0m\u001b[0mX\u001b[0m\u001b[1;33m=\u001b[0m\u001b[0marrays\u001b[0m\u001b[1;33m[\u001b[0m\u001b[1;36m0\u001b[0m\u001b[1;33m]\u001b[0m\u001b[1;33m,\u001b[0m \u001b[0my\u001b[0m\u001b[1;33m=\u001b[0m\u001b[0mstratify\u001b[0m\u001b[1;33m)\u001b[0m\u001b[1;33m)\u001b[0m\u001b[1;33m\u001b[0m\u001b[1;33m\u001b[0m\u001b[0m\n\u001b[0m\u001b[0;32m   2057\u001b[0m \u001b[1;33m\u001b[0m\u001b[0m\n\u001b[0;32m   2058\u001b[0m     return list(chain.from_iterable((safe_indexing(a, train),\n",
      "\u001b[1;32m~\\Anaconda3\\lib\\site-packages\\sklearn\\model_selection\\_split.py\u001b[0m in \u001b[0;36msplit\u001b[1;34m(self, X, y, groups)\u001b[0m\n\u001b[0;32m   1201\u001b[0m         \u001b[0mto\u001b[0m \u001b[0man\u001b[0m \u001b[0minteger\u001b[0m\u001b[1;33m.\u001b[0m\u001b[1;33m\u001b[0m\u001b[1;33m\u001b[0m\u001b[0m\n\u001b[0;32m   1202\u001b[0m         \"\"\"\n\u001b[1;32m-> 1203\u001b[1;33m         \u001b[0mX\u001b[0m\u001b[1;33m,\u001b[0m \u001b[0my\u001b[0m\u001b[1;33m,\u001b[0m \u001b[0mgroups\u001b[0m \u001b[1;33m=\u001b[0m \u001b[0mindexable\u001b[0m\u001b[1;33m(\u001b[0m\u001b[0mX\u001b[0m\u001b[1;33m,\u001b[0m \u001b[0my\u001b[0m\u001b[1;33m,\u001b[0m \u001b[0mgroups\u001b[0m\u001b[1;33m)\u001b[0m\u001b[1;33m\u001b[0m\u001b[1;33m\u001b[0m\u001b[0m\n\u001b[0m\u001b[0;32m   1204\u001b[0m         \u001b[1;32mfor\u001b[0m \u001b[0mtrain\u001b[0m\u001b[1;33m,\u001b[0m \u001b[0mtest\u001b[0m \u001b[1;32min\u001b[0m \u001b[0mself\u001b[0m\u001b[1;33m.\u001b[0m\u001b[0m_iter_indices\u001b[0m\u001b[1;33m(\u001b[0m\u001b[0mX\u001b[0m\u001b[1;33m,\u001b[0m \u001b[0my\u001b[0m\u001b[1;33m,\u001b[0m \u001b[0mgroups\u001b[0m\u001b[1;33m)\u001b[0m\u001b[1;33m:\u001b[0m\u001b[1;33m\u001b[0m\u001b[1;33m\u001b[0m\u001b[0m\n\u001b[0;32m   1205\u001b[0m             \u001b[1;32myield\u001b[0m \u001b[0mtrain\u001b[0m\u001b[1;33m,\u001b[0m \u001b[0mtest\u001b[0m\u001b[1;33m\u001b[0m\u001b[1;33m\u001b[0m\u001b[0m\n",
      "\u001b[1;32m~\\Anaconda3\\lib\\site-packages\\sklearn\\utils\\validation.py\u001b[0m in \u001b[0;36mindexable\u001b[1;34m(*iterables)\u001b[0m\n\u001b[0;32m    227\u001b[0m         \u001b[1;32melse\u001b[0m\u001b[1;33m:\u001b[0m\u001b[1;33m\u001b[0m\u001b[1;33m\u001b[0m\u001b[0m\n\u001b[0;32m    228\u001b[0m             \u001b[0mresult\u001b[0m\u001b[1;33m.\u001b[0m\u001b[0mappend\u001b[0m\u001b[1;33m(\u001b[0m\u001b[0mnp\u001b[0m\u001b[1;33m.\u001b[0m\u001b[0marray\u001b[0m\u001b[1;33m(\u001b[0m\u001b[0mX\u001b[0m\u001b[1;33m)\u001b[0m\u001b[1;33m)\u001b[0m\u001b[1;33m\u001b[0m\u001b[1;33m\u001b[0m\u001b[0m\n\u001b[1;32m--> 229\u001b[1;33m     \u001b[0mcheck_consistent_length\u001b[0m\u001b[1;33m(\u001b[0m\u001b[1;33m*\u001b[0m\u001b[0mresult\u001b[0m\u001b[1;33m)\u001b[0m\u001b[1;33m\u001b[0m\u001b[1;33m\u001b[0m\u001b[0m\n\u001b[0m\u001b[0;32m    230\u001b[0m     \u001b[1;32mreturn\u001b[0m \u001b[0mresult\u001b[0m\u001b[1;33m\u001b[0m\u001b[1;33m\u001b[0m\u001b[0m\n\u001b[0;32m    231\u001b[0m \u001b[1;33m\u001b[0m\u001b[0m\n",
      "\u001b[1;32m~\\Anaconda3\\lib\\site-packages\\sklearn\\utils\\validation.py\u001b[0m in \u001b[0;36mcheck_consistent_length\u001b[1;34m(*arrays)\u001b[0m\n\u001b[0;32m    202\u001b[0m     \u001b[1;32mif\u001b[0m \u001b[0mlen\u001b[0m\u001b[1;33m(\u001b[0m\u001b[0muniques\u001b[0m\u001b[1;33m)\u001b[0m \u001b[1;33m>\u001b[0m \u001b[1;36m1\u001b[0m\u001b[1;33m:\u001b[0m\u001b[1;33m\u001b[0m\u001b[1;33m\u001b[0m\u001b[0m\n\u001b[0;32m    203\u001b[0m         raise ValueError(\"Found input variables with inconsistent numbers of\"\n\u001b[1;32m--> 204\u001b[1;33m                          \" samples: %r\" % [int(l) for l in lengths])\n\u001b[0m\u001b[0;32m    205\u001b[0m \u001b[1;33m\u001b[0m\u001b[0m\n\u001b[0;32m    206\u001b[0m \u001b[1;33m\u001b[0m\u001b[0m\n",
      "\u001b[1;31mValueError\u001b[0m: Found input variables with inconsistent numbers of samples: [27665, 1]"
     ],
     "ename": "ValueError",
     "evalue": "Found input variables with inconsistent numbers of samples: [27665, 1]",
     "output_type": "error"
    }
   ],
   "source": [
    "# train_gab, test_gab = train_test_split(cleaned_gab_data, test_size=0.2, stratify=['is_hate'])"
   ],
   "metadata": {
    "collapsed": false,
    "pycharm": {
     "name": "#%%\n",
     "is_executing": false
    }
   }
  },
  {
   "cell_type": "code",
   "execution_count": 107,
   "outputs": [],
   "source": [
    "\n",
    "stormfront = pd.read_csv('../data/stormfront/annotations_metadata.csv')\n",
    "sf_content_dict = dict()\n",
    "for file in stormfront['file_id']:\n",
    "    with open(f'../data/stormfront/all_files/{file}.txt', \"r\", encoding='utf8') as sf_file:\n",
    "        sf_content_dict[file] = sf_file.read()\n",
    "\n",
    "sf_text_df = pd.DataFrame.from_dict(data=sf_content_dict, orient='index', columns=['text'])\n",
    "sf_text_df.index.names = ['file_id']\n",
    "stormfront = stormfront.join(how='left', other=sf_text_df, on='file_id')"
   ],
   "metadata": {
    "collapsed": false,
    "pycharm": {
     "name": "#%%\n",
     "is_executing": false
    }
   }
  },
  {
   "cell_type": "code",
   "execution_count": 115,
   "outputs": [],
   "source": [
    "stormfront['twitter_aae'] = stormfront.apply(lambda row: twitteraae_predict.predict(row['text']), axis=1)\n",
    "stormfront['is_aae'] = stormfront['twitter_aae'].str[0] >= 0.8\n",
    "stormfront['is_aae'] = stormfront['is_aae'].astype(int) # only 1 is marked as aae by dialect // 0 marked as aae"
   ],
   "metadata": {
    "collapsed": false,
    "pycharm": {
     "name": "#%%\n",
     "is_executing": false
    }
   }
  },
  {
   "cell_type": "code",
   "execution_count": null,
   "outputs": [
    {
     "data": {
      "text/plain": "(10944, 8)"
     },
     "metadata": {},
     "output_type": "execute_result",
     "execution_count": 118
    }
   ],
   "source": [
    "stormfront.shape"
   ],
   "metadata": {
    "collapsed": false,
    "pycharm": {
     "name": "#%%\n",
     "is_executing": true
    }
   }
  },
  {
   "cell_type": "code",
   "execution_count": 117,
   "outputs": [
    {
     "data": {
      "text/plain": "          file_id  user_id  subforum_id  num_contexts   label  \\\n0      12834217_1   572066         1346             0  noHate   \n1      12834217_2   572066         1346             0  noHate   \n2      12834217_3   572066         1346             0  noHate   \n3      12834217_4   572066         1346             0    hate   \n4      12834217_5   572066         1346             0  noHate   \n...           ...      ...          ...           ...     ...   \n10939  33676864_5   734541         1388             0  noHate   \n10940  33677019_1   735154         1388             0  noHate   \n10941  33677019_2   735154         1388             0  noHate   \n10942  33677053_1   572266         1388             0    hate   \n10943  33677053_2   572266         1388             0  noHate   \n\n                                                    text  \\\n0      As of March 13th , 2014 , the booklet had been...   \n1      In order to help increase the booklets downloa...   \n2      ( Simply copy and paste the following text int...   \n3      Click below for a FREE download of a colorfull...   \n4      Click on the `` DOWNLOAD ( 7.42 MB ) '' green ...   \n...                                                  ...   \n10939  Billy - `` That guy would n't leave me alone ,...   \n10940  Wish we at least had a Marine Le Pen to vote f...   \n10941  Its like the choices are white genocide candid...   \n10942  Why White people used to say that sex was a si...   \n10943                                     Now I get it !   \n\n                                             twitter_aae  is_aae  \n0      [0.03117249269491678, 0.017587739330060827, 0....       0  \n1      [0.0675233470132276, 0.024990787770922066, 0.8...       0  \n2      [0.07068404087345721, 0.036463286283906764, 0....       0  \n3      [0.0878289733901142, 0.04044049034992705, 0.85...       0  \n4      [0.06770891657705622, 0.025514598021005915, 0....       0  \n...                                                  ...     ...  \n10939  [0.07012772386434477, 0.025003537752268736, 0....       0  \n10940  [0.06442548991852821, 0.04621656372273799, 0.8...       0  \n10941  [0.06341689439282158, 0.07569891312708113, 0.8...       0  \n10942  [0.06961854541198273, 0.027863508063010634, 0....       0  \n10943  [0.16681961585191693, 0.1105022820744519, 0.65...       0  \n\n[10944 rows x 8 columns]",
      "text/html": "<div>\n<style scoped>\n    .dataframe tbody tr th:only-of-type {\n        vertical-align: middle;\n    }\n\n    .dataframe tbody tr th {\n        vertical-align: top;\n    }\n\n    .dataframe thead th {\n        text-align: right;\n    }\n</style>\n<table border=\"1\" class=\"dataframe\">\n  <thead>\n    <tr style=\"text-align: right;\">\n      <th></th>\n      <th>file_id</th>\n      <th>user_id</th>\n      <th>subforum_id</th>\n      <th>num_contexts</th>\n      <th>label</th>\n      <th>text</th>\n      <th>twitter_aae</th>\n      <th>is_aae</th>\n    </tr>\n  </thead>\n  <tbody>\n    <tr>\n      <th>0</th>\n      <td>12834217_1</td>\n      <td>572066</td>\n      <td>1346</td>\n      <td>0</td>\n      <td>noHate</td>\n      <td>As of March 13th , 2014 , the booklet had been...</td>\n      <td>[0.03117249269491678, 0.017587739330060827, 0....</td>\n      <td>0</td>\n    </tr>\n    <tr>\n      <th>1</th>\n      <td>12834217_2</td>\n      <td>572066</td>\n      <td>1346</td>\n      <td>0</td>\n      <td>noHate</td>\n      <td>In order to help increase the booklets downloa...</td>\n      <td>[0.0675233470132276, 0.024990787770922066, 0.8...</td>\n      <td>0</td>\n    </tr>\n    <tr>\n      <th>2</th>\n      <td>12834217_3</td>\n      <td>572066</td>\n      <td>1346</td>\n      <td>0</td>\n      <td>noHate</td>\n      <td>( Simply copy and paste the following text int...</td>\n      <td>[0.07068404087345721, 0.036463286283906764, 0....</td>\n      <td>0</td>\n    </tr>\n    <tr>\n      <th>3</th>\n      <td>12834217_4</td>\n      <td>572066</td>\n      <td>1346</td>\n      <td>0</td>\n      <td>hate</td>\n      <td>Click below for a FREE download of a colorfull...</td>\n      <td>[0.0878289733901142, 0.04044049034992705, 0.85...</td>\n      <td>0</td>\n    </tr>\n    <tr>\n      <th>4</th>\n      <td>12834217_5</td>\n      <td>572066</td>\n      <td>1346</td>\n      <td>0</td>\n      <td>noHate</td>\n      <td>Click on the `` DOWNLOAD ( 7.42 MB ) '' green ...</td>\n      <td>[0.06770891657705622, 0.025514598021005915, 0....</td>\n      <td>0</td>\n    </tr>\n    <tr>\n      <th>...</th>\n      <td>...</td>\n      <td>...</td>\n      <td>...</td>\n      <td>...</td>\n      <td>...</td>\n      <td>...</td>\n      <td>...</td>\n      <td>...</td>\n    </tr>\n    <tr>\n      <th>10939</th>\n      <td>33676864_5</td>\n      <td>734541</td>\n      <td>1388</td>\n      <td>0</td>\n      <td>noHate</td>\n      <td>Billy - `` That guy would n't leave me alone ,...</td>\n      <td>[0.07012772386434477, 0.025003537752268736, 0....</td>\n      <td>0</td>\n    </tr>\n    <tr>\n      <th>10940</th>\n      <td>33677019_1</td>\n      <td>735154</td>\n      <td>1388</td>\n      <td>0</td>\n      <td>noHate</td>\n      <td>Wish we at least had a Marine Le Pen to vote f...</td>\n      <td>[0.06442548991852821, 0.04621656372273799, 0.8...</td>\n      <td>0</td>\n    </tr>\n    <tr>\n      <th>10941</th>\n      <td>33677019_2</td>\n      <td>735154</td>\n      <td>1388</td>\n      <td>0</td>\n      <td>noHate</td>\n      <td>Its like the choices are white genocide candid...</td>\n      <td>[0.06341689439282158, 0.07569891312708113, 0.8...</td>\n      <td>0</td>\n    </tr>\n    <tr>\n      <th>10942</th>\n      <td>33677053_1</td>\n      <td>572266</td>\n      <td>1388</td>\n      <td>0</td>\n      <td>hate</td>\n      <td>Why White people used to say that sex was a si...</td>\n      <td>[0.06961854541198273, 0.027863508063010634, 0....</td>\n      <td>0</td>\n    </tr>\n    <tr>\n      <th>10943</th>\n      <td>33677053_2</td>\n      <td>572266</td>\n      <td>1388</td>\n      <td>0</td>\n      <td>noHate</td>\n      <td>Now I get it !</td>\n      <td>[0.16681961585191693, 0.1105022820744519, 0.65...</td>\n      <td>0</td>\n    </tr>\n  </tbody>\n</table>\n<p>10944 rows × 8 columns</p>\n</div>"
     },
     "metadata": {},
     "output_type": "execute_result",
     "execution_count": 117
    }
   ],
   "source": [
    "stormfront"
   ],
   "metadata": {
    "collapsed": false,
    "pycharm": {
     "name": "#%%\n",
     "is_executing": false
    }
   }
  },
  {
   "cell_type": "code",
   "execution_count": null,
   "outputs": [],
   "source": [
    "\n"
   ],
   "metadata": {
    "collapsed": false,
    "pycharm": {
     "name": "#%%\n"
    }
   }
  }
 ],
 "metadata": {
  "language_info": {
   "codemirror_mode": {
    "name": "ipython",
    "version": 2
   },
   "file_extension": ".py",
   "mimetype": "text/x-python",
   "name": "python",
   "nbconvert_exporter": "python",
   "pygments_lexer": "ipython2",
   "version": "2.7.6"
  },
  "kernelspec": {
   "name": "pycharm-7db20ed5",
   "language": "python",
   "display_name": "PyCharm (DelayedFlights)"
  },
  "pycharm": {
   "stem_cell": {
    "cell_type": "raw",
    "source": [],
    "metadata": {
     "collapsed": false
    }
   }
  }
 },
 "nbformat": 4,
 "nbformat_minor": 0
}