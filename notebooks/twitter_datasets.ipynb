{
 "cells": [
  {
   "cell_type": "code",
   "execution_count": 42,
   "outputs": [],
   "source": [
    "import re\n",
    "import time\n",
    "import requests\n",
    "import json\n",
    "import pandas as pd\n",
    "import numpy as np\n",
    "import os\n",
    "import torch\n",
    "import os\n",
    "import sys\n",
    "sys.path.insert(0, os.path.abspath('../')) # needed to import src\n",
    "from src.existing_models.twitteraae.code.predict import Predict\n",
    "from sklearn.model_selection import train_test_split\n",
    "OUTPUT_DIRECTORY = '../data'"
   ],
   "metadata": {
    "collapsed": false,
    "pycharm": {
     "name": "#%%\n",
     "is_executing": false
    }
   }
  },
  {
   "cell_type": "code",
   "execution_count": 9,
   "outputs": [],
   "source": [
    "'''\n",
    "Davidson:\n",
    "count = number of CrowdFlower users who coded each tweet (min is 3, sometimes more users coded a tweet when judgments were determined to be unreliable by CF).\n",
    "\n",
    "hate_speech = number of CF users who judged the tweet to be hate speech.\n",
    "offensive_language = number of CF users who judged the tweet to be offensive.\n",
    "neither = number of CF users who judged the tweet to be neither offensive nor non-offensive.\n",
    "class = class label for majority of CF users. 0 - hate speech 1 - offensive language 2 - neither\n",
    "\n",
    "'''\n",
    "def preprocess(text_string):\n",
    "    \"\"\"\n",
    "    Accepts a text string and replaces:\n",
    "    1) urls with URLHERE\n",
    "    2) lots of whitespace with one instance\n",
    "    3) mentions with MENTIONHERE\n",
    "\n",
    "    This allows us to get standardized counts of urls and mentions\n",
    "    Without caring about specific people mentioned\n",
    "    \"\"\"\n",
    "    space_pattern = '\\s+'\n",
    "    giant_url_regex = ('http[s]?://(?:[a-zA-Z]|[0-9]|[$-_@.&+]|'\n",
    "        '[!*\\(\\),]|(?:%[0-9a-fA-F][0-9a-fA-F]))+')\n",
    "    mention_regex = '@[\\w\\-]+'\n",
    "    parsed_text = re.sub(space_pattern, ' ', text_string)\n",
    "    parsed_text = re.sub(giant_url_regex, '', parsed_text)\n",
    "    parsed_text = re.sub(mention_regex, '', parsed_text)\n",
    "    #parsed_text = parsed_text.code(\"utf-8\", errors='ignore')\n",
    "    return parsed_text"
   ],
   "metadata": {
    "collapsed": false,
    "pycharm": {
     "name": "#%%\n",
     "is_executing": false
    }
   }
  },
  {
   "cell_type": "code",
   "source": [
    "\n",
    "raw_data = pd.read_csv(f'{OUTPUT_DIRECTORY}/twitter_datasets/davidson_labelled.csv', index_col=0)\n",
    "raw_data['cleaned_tweet'] = raw_data.apply(lambda row: preprocess(row['tweet']), axis=1)\n",
    "raw_data['is_hate'] = np.where(raw_data['class'] == 0, 1, 0)\n",
    "raw_data['is_offensive'] = np.where(raw_data['class'] == 1, 1, 0)"
   ],
   "metadata": {
    "collapsed": false,
    "pycharm": {
     "name": "#%%%\n",
     "is_executing": false
    }
   },
   "execution_count": 11,
   "outputs": [
    {
     "data": {
      "text/plain": "       count  hate_speech  offensive_language  neither  class  \\\n0          3            0                   0        3      2   \n1          3            0                   3        0      1   \n2          3            0                   3        0      1   \n3          3            0                   2        1      1   \n4          6            0                   6        0      1   \n...      ...          ...                 ...      ...    ...   \n25291      3            0                   2        1      1   \n25292      3            0                   1        2      2   \n25294      3            0                   3        0      1   \n25295      6            0                   6        0      1   \n25296      3            0                   0        3      2   \n\n                                                   tweet  \\\n0      !!! RT @mayasolovely: As a woman you shouldn't...   \n1      !!!!! RT @mleew17: boy dats cold...tyga dwn ba...   \n2      !!!!!!! RT @UrKindOfBrand Dawg!!!! RT @80sbaby...   \n3      !!!!!!!!! RT @C_G_Anderson: @viva_based she lo...   \n4      !!!!!!!!!!!!! RT @ShenikaRoberts: The shit you...   \n...                                                  ...   \n25291  you's a muthaf***in lie &#8220;@LifeAsKing: @2...   \n25292  you've gone and broke the wrong heart baby, an...   \n25294  young buck wanna eat!!.. dat nigguh like I ain...   \n25295              youu got wild bitches tellin you lies   \n25296  ~~Ruffled | Ntac Eileen Dahlia - Beautiful col...   \n\n                                           cleaned_tweet  \n0      !!! RT : As a woman you shouldn't complain abo...  \n1      !!!!! RT : boy dats cold...tyga dwn bad for cu...  \n2      !!!!!!! RT  Dawg!!!! RT : You ever fuck a bitc...  \n3                 !!!!!!!!! RT :  she look like a tranny  \n4      !!!!!!!!!!!!! RT : The shit you hear about me ...  \n...                                                  ...  \n25291  you's a muthaf***in lie &#8220;:   right! His ...  \n25292  you've gone and broke the wrong heart baby, an...  \n25294  young buck wanna eat!!.. dat nigguh like I ain...  \n25295              youu got wild bitches tellin you lies  \n25296  ~~Ruffled | Ntac Eileen Dahlia - Beautiful col...  \n\n[24783 rows x 7 columns]",
      "text/html": "<div>\n<style scoped>\n    .dataframe tbody tr th:only-of-type {\n        vertical-align: middle;\n    }\n\n    .dataframe tbody tr th {\n        vertical-align: top;\n    }\n\n    .dataframe thead th {\n        text-align: right;\n    }\n</style>\n<table border=\"1\" class=\"dataframe\">\n  <thead>\n    <tr style=\"text-align: right;\">\n      <th></th>\n      <th>count</th>\n      <th>hate_speech</th>\n      <th>offensive_language</th>\n      <th>neither</th>\n      <th>class</th>\n      <th>tweet</th>\n      <th>cleaned_tweet</th>\n    </tr>\n  </thead>\n  <tbody>\n    <tr>\n      <th>0</th>\n      <td>3</td>\n      <td>0</td>\n      <td>0</td>\n      <td>3</td>\n      <td>2</td>\n      <td>!!! RT @mayasolovely: As a woman you shouldn't...</td>\n      <td>!!! RT : As a woman you shouldn't complain abo...</td>\n    </tr>\n    <tr>\n      <th>1</th>\n      <td>3</td>\n      <td>0</td>\n      <td>3</td>\n      <td>0</td>\n      <td>1</td>\n      <td>!!!!! RT @mleew17: boy dats cold...tyga dwn ba...</td>\n      <td>!!!!! RT : boy dats cold...tyga dwn bad for cu...</td>\n    </tr>\n    <tr>\n      <th>2</th>\n      <td>3</td>\n      <td>0</td>\n      <td>3</td>\n      <td>0</td>\n      <td>1</td>\n      <td>!!!!!!! RT @UrKindOfBrand Dawg!!!! RT @80sbaby...</td>\n      <td>!!!!!!! RT  Dawg!!!! RT : You ever fuck a bitc...</td>\n    </tr>\n    <tr>\n      <th>3</th>\n      <td>3</td>\n      <td>0</td>\n      <td>2</td>\n      <td>1</td>\n      <td>1</td>\n      <td>!!!!!!!!! RT @C_G_Anderson: @viva_based she lo...</td>\n      <td>!!!!!!!!! RT :  she look like a tranny</td>\n    </tr>\n    <tr>\n      <th>4</th>\n      <td>6</td>\n      <td>0</td>\n      <td>6</td>\n      <td>0</td>\n      <td>1</td>\n      <td>!!!!!!!!!!!!! RT @ShenikaRoberts: The shit you...</td>\n      <td>!!!!!!!!!!!!! RT : The shit you hear about me ...</td>\n    </tr>\n    <tr>\n      <th>...</th>\n      <td>...</td>\n      <td>...</td>\n      <td>...</td>\n      <td>...</td>\n      <td>...</td>\n      <td>...</td>\n      <td>...</td>\n    </tr>\n    <tr>\n      <th>25291</th>\n      <td>3</td>\n      <td>0</td>\n      <td>2</td>\n      <td>1</td>\n      <td>1</td>\n      <td>you's a muthaf***in lie &amp;#8220;@LifeAsKing: @2...</td>\n      <td>you's a muthaf***in lie &amp;#8220;:   right! His ...</td>\n    </tr>\n    <tr>\n      <th>25292</th>\n      <td>3</td>\n      <td>0</td>\n      <td>1</td>\n      <td>2</td>\n      <td>2</td>\n      <td>you've gone and broke the wrong heart baby, an...</td>\n      <td>you've gone and broke the wrong heart baby, an...</td>\n    </tr>\n    <tr>\n      <th>25294</th>\n      <td>3</td>\n      <td>0</td>\n      <td>3</td>\n      <td>0</td>\n      <td>1</td>\n      <td>young buck wanna eat!!.. dat nigguh like I ain...</td>\n      <td>young buck wanna eat!!.. dat nigguh like I ain...</td>\n    </tr>\n    <tr>\n      <th>25295</th>\n      <td>6</td>\n      <td>0</td>\n      <td>6</td>\n      <td>0</td>\n      <td>1</td>\n      <td>youu got wild bitches tellin you lies</td>\n      <td>youu got wild bitches tellin you lies</td>\n    </tr>\n    <tr>\n      <th>25296</th>\n      <td>3</td>\n      <td>0</td>\n      <td>0</td>\n      <td>3</td>\n      <td>2</td>\n      <td>~~Ruffled | Ntac Eileen Dahlia - Beautiful col...</td>\n      <td>~~Ruffled | Ntac Eileen Dahlia - Beautiful col...</td>\n    </tr>\n  </tbody>\n</table>\n<p>24783 rows × 7 columns</p>\n</div>"
     },
     "metadata": {},
     "output_type": "execute_result",
     "execution_count": 11
    }
   ]
  },
  {
   "cell_type": "code",
   "source": [],
   "metadata": {
    "collapsed": false,
    "pycharm": {
     "name": "#%%\n"
    }
   },
   "execution_count": null,
   "outputs": []
  },
  {
   "cell_type": "code",
   "execution_count": null,
   "outputs": [],
   "source": [
    "'''\n",
    "Waseem 1 & 2:\n",
    "\n",
    "- Waseem & Hovy (2016) DS contains sampling bias -  70% of sexist tweets were from two users, 99% of racist tweets were from one user\n",
    "- In Sap et al this leads to higher false positive rates of AAE dialect tweets\n",
    "'''\n"
   ],
   "metadata": {
    "collapsed": false,
    "pycharm": {
     "name": "#%%\n"
    }
   }
  },
  {
   "cell_type": "code",
   "execution_count": null,
   "outputs": [],
   "source": [
    "'''\n",
    "Golbeck et al:\n",
    "- literature link: http://www.cs.umd.edu/~golbeck/papers/trolling.pdf\n",
    "- label distribution: 5,495 positive examples and 29,505 negative example\n",
    "- need to request access via:  jgolbeck@umd.edu\n",
    "\n",
    " ID is a unique identifier. \n",
    " Code is the label - H for Harassing and N for not-harassment. Please read the paper for details!\n",
    " Tweet is the text of the tweet.\n",
    " \n",
    " There is duplicate text tweets, may want to remove. \n",
    "'''\n"
   ],
   "metadata": {
    "collapsed": false,
    "pycharm": {
     "name": "#%%\n"
    }
   }
  },
  {
   "cell_type": "code",
   "execution_count": 21,
   "outputs": [
    {
     "data": {
      "text/plain": "                 tweet_id maj_label  is_hate  is_abusive\n0      849667487180259329   abusive        0           1\n1      850490912954351616   abusive        0           1\n2      848791766853668864   abusive        0           1\n3      848306464892604416   abusive        0           1\n4      850010509969465344    normal        0           0\n...                   ...       ...      ...         ...\n79995  847640895956459521    normal        0           0\n79996  850335795022102530    normal        0           0\n79997  848201162717265920    normal        0           0\n79998  848939985160077312      spam        0           0\n79999  847673586361843713    normal        0           0\n\n[79996 rows x 4 columns]",
      "text/html": "<div>\n<style scoped>\n    .dataframe tbody tr th:only-of-type {\n        vertical-align: middle;\n    }\n\n    .dataframe tbody tr th {\n        vertical-align: top;\n    }\n\n    .dataframe thead th {\n        text-align: right;\n    }\n</style>\n<table border=\"1\" class=\"dataframe\">\n  <thead>\n    <tr style=\"text-align: right;\">\n      <th></th>\n      <th>tweet_id</th>\n      <th>maj_label</th>\n      <th>is_hate</th>\n      <th>is_abusive</th>\n    </tr>\n  </thead>\n  <tbody>\n    <tr>\n      <th>0</th>\n      <td>849667487180259329</td>\n      <td>abusive</td>\n      <td>0</td>\n      <td>1</td>\n    </tr>\n    <tr>\n      <th>1</th>\n      <td>850490912954351616</td>\n      <td>abusive</td>\n      <td>0</td>\n      <td>1</td>\n    </tr>\n    <tr>\n      <th>2</th>\n      <td>848791766853668864</td>\n      <td>abusive</td>\n      <td>0</td>\n      <td>1</td>\n    </tr>\n    <tr>\n      <th>3</th>\n      <td>848306464892604416</td>\n      <td>abusive</td>\n      <td>0</td>\n      <td>1</td>\n    </tr>\n    <tr>\n      <th>4</th>\n      <td>850010509969465344</td>\n      <td>normal</td>\n      <td>0</td>\n      <td>0</td>\n    </tr>\n    <tr>\n      <th>...</th>\n      <td>...</td>\n      <td>...</td>\n      <td>...</td>\n      <td>...</td>\n    </tr>\n    <tr>\n      <th>79995</th>\n      <td>847640895956459521</td>\n      <td>normal</td>\n      <td>0</td>\n      <td>0</td>\n    </tr>\n    <tr>\n      <th>79996</th>\n      <td>850335795022102530</td>\n      <td>normal</td>\n      <td>0</td>\n      <td>0</td>\n    </tr>\n    <tr>\n      <th>79997</th>\n      <td>848201162717265920</td>\n      <td>normal</td>\n      <td>0</td>\n      <td>0</td>\n    </tr>\n    <tr>\n      <th>79998</th>\n      <td>848939985160077312</td>\n      <td>spam</td>\n      <td>0</td>\n      <td>0</td>\n    </tr>\n    <tr>\n      <th>79999</th>\n      <td>847673586361843713</td>\n      <td>normal</td>\n      <td>0</td>\n      <td>0</td>\n    </tr>\n  </tbody>\n</table>\n<p>79996 rows × 4 columns</p>\n</div>"
     },
     "metadata": {},
     "output_type": "execute_result",
     "execution_count": 21
    }
   ],
   "source": [
    "'''\n",
    "Founta et al:\n",
    "80k \n",
    "- literature link: https://datalab.csd.auth.gr/wp-content/uploads/publications/17909-77948-1-PB.pdf\n",
    "- dataset Link: https://dataverse.mpi-sws.org/dataset.xhtml?persistentId=doi:10.5072/FK2/ZDTEMN\n",
    "'abusive', 'normal', 'hateful', 'spam' & nan as maj_label\n",
    "'''\n",
    "\n",
    "founta = pd.read_csv(f'{OUTPUT_DIRECTORY}/twitter_datasets/founta/hatespeechtwitter.csv')\n",
    "founta.dropna(inplace=True) # 4 instances\n",
    "founta['is_hate'] = np.where(founta['maj_label'] == 'hateful', 1, 0)\n",
    "founta['is_abusive'] = np.where(founta['maj_label'] == 'abusive', 1, 0)\n",
    "founta"
   ],
   "metadata": {
    "collapsed": false,
    "pycharm": {
     "name": "#%%\n",
     "is_executing": false
    }
   }
  },
  {
   "cell_type": "code",
   "source": [
    " #can do 100 at atime, 300 requests/15 mins\n",
    "def jprint(obj):\n",
    "    # create a formatted string of the Python JSON object\n",
    "    text = json.dumps(obj, sort_keys=True, indent=4)\n",
    "    print(text)\n",
    "\n",
    "\n",
    "\n",
    "jprint(response)\n",
    "# twitter_api = twitter.Api(consumer_key='AJXjzeRH380K0uJV5Rlw8iakN',\n",
    "#                   consumer_secret='Dq1GgRWxZfyJEQfRuRfHtzuZWHmmOJpNQIRqs2pi9nMKla8ng4',\n",
    "#                   access_token_key='AAAAAAAAAAAAAAAAAAAAAI7JIwEAAAAAUI90MzpQE%2BPgKDyGmP%2FCladtxxU%3D06inEDvISc2MgMTrR7l1Zk5cOvHnW6JqysPlv9sFvoePsZNPAu',\n",
    "#                   access_token_secret=[access token secret])\n",
    "# def get_tweet(tweet_id):\n",
    "#     pass\n",
    "\n",
    "##%%"
   ],
   "metadata": {
    "collapsed": false,
    "pycharm": {
     "name": "#%%\n",
     "is_executing": false
    }
   },
   "execution_count": 39,
   "outputs": [
    {
     "name": "stdout",
     "text": [
      "{\n    \"data\": [\n        {\n            \"id\": \"850490912954351616\",\n            \"text\": \"Alex Brosas another idiot #ALDUBKSGoesToUS  https://t.co/14G7hFwVQm\"\n        },\n        {\n            \"id\": \"850335795022102530\",\n            \"text\": \"#LaserHairRemoval for permanently smooth skin! Free Consultation 781-599-0666 https://t.co/G9q2FKIdkE\"\n        },\n        {\n            \"id\": \"847640895956459521\",\n            \"text\": \"I liked a @YouTube video https://t.co/SKxJS9FlxX How Future\\u2019s \\u201cMask Off\\u201d Made The Flute Hip-Hop\\u2019s Hottest Instrument | Genius\"\n        }\n    ],\n    \"errors\": [\n        {\n            \"detail\": \"Could not find tweet with ids: [849667487180259329].\",\n            \"parameter\": \"ids\",\n            \"resource_type\": \"tweet\",\n            \"title\": \"Not Found Error\",\n            \"type\": \"https://api.twitter.com/2/problems/resource-not-found\",\n            \"value\": \"849667487180259329\"\n        }\n    ]\n}\n"
     ],
     "output_type": "stream"
    },
    {
     "data": {
      "text/plain": "[{'id': '850490912954351616',\n  'text': 'Alex Brosas another idiot #ALDUBKSGoesToUS  https://t.co/14G7hFwVQm'},\n {'id': '850335795022102530',\n  'text': '#LaserHairRemoval for permanently smooth skin! Free Consultation 781-599-0666 https://t.co/G9q2FKIdkE'},\n {'id': '847640895956459521',\n  'text': 'I liked a @YouTube video https://t.co/SKxJS9FlxX How Future’s “Mask Off” Made The Flute Hip-Hop’s Hottest Instrument | Genius'},\n {'id': '847640895956459521',\n  'text': 'I liked a @YouTube video https://t.co/SKxJS9FlxX How Future’s “Mask Off” Made The Flute Hip-Hop’s Hottest Instrument | Genius'}]"
     },
     "metadata": {},
     "output_type": "execute_result",
     "execution_count": 39
    }
   ]
  },
  {
   "cell_type": "code",
   "execution_count": 55,
   "outputs": [],
   "source": [
    "bearer_token = \"AAAAAAAAAAAAAAAAAAAAAI7JIwEAAAAAUI90MzpQE%2BPgKDyGmP%2FCladtxxU%3D06inEDvISc2MgMTrR7l1Zk5cOvHnW6JqysPlv9sFvoePsZNPAu\"\n",
    "headers = {\"Authorization\": f\"Bearer {bearer_token}\"}\n",
    "def get_tweets(tweet_ids: str) -> json:\n",
    "    params={'ids': tweet_ids}\n",
    "    return requests.get(url='https://api.twitter.com/2/tweets', params=params, headers=headers).json()"
   ],
   "metadata": {
    "collapsed": false,
    "pycharm": {
     "name": "#%%\n",
     "is_executing": false
    }
   }
  },
  {
   "cell_type": "code",
   "execution_count": 71,
   "outputs": [
    {
     "name": "stdout",
     "text": [
      "Pausing, reached 300 requests\n",
      "Pausing, reached 300 requests\n"
     ],
     "output_type": "stream"
    }
   ],
   "source": [
    "count = 0\n",
    "last_start = 0\n",
    "tweets_founta = list()\n",
    "for i in range(100, founta.shape[0], 100):\n",
    "    if count == 299:\n",
    "        print('Pausing, reached 300 requests')\n",
    "        time.sleep(900) #wait 15 mins to not overgo limit\n",
    "        count = 0\n",
    "    converted_list = [str(id) for id in founta[last_start:i]['tweet_id'].values]\n",
    "    ids = \",\".join(converted_list)\n",
    "    response = get_tweets(ids)\n",
    "    # jprint(response)\n",
    "    tweets_founta.extend(response['data'])\n",
    "    last_start=i\n",
    "    count += 1"
   ],
   "metadata": {
    "collapsed": false,
    "pycharm": {
     "name": "#%%\n",
     "is_executing": false
    }
   }
  },
  {
   "cell_type": "code",
   "execution_count": 90,
   "outputs": [],
   "source": [
    "founta_tweets_pd = pd.DataFrame(tweets_founta)\n",
    "founta_tweets_pd['id'] = founta_tweets_pd['id'].astype('int64')"
   ],
   "metadata": {
    "collapsed": false,
    "pycharm": {
     "name": "#%%\n",
     "is_executing": false
    }
   }
  },
  {
   "cell_type": "code",
   "execution_count": 91,
   "outputs": [
    {
     "data": {
      "text/plain": "                       id                                               text  \\\n0      850490912954351616  Alex Brosas another idiot #ALDUBKSGoesToUS  ht...   \n1      848791766853668864  RT @ItIzBiz: as Nancy Reagan would say, 'just ...   \n2      850010509969465344  RT @MailOnline: The Nazi death gas so horrific...   \n3      850433664890544128  I hate er chase because if the Bitch that work...   \n4      850100742035836929  RT @nyctophil3: Pineapples do not belong on pi...   \n...                   ...                                                ...   \n50393  850773885847056385  There's a stop and search underway on the A316...   \n50394  848365063517982720  @gerbsch78 And now, his singing of that Seal s...   \n50395  848569917527994370  I suppose you'll turn down foreign investment ...   \n50396  848592994567471105  It's your turn to Enter the Stars.\\n\\nWe are g...   \n50397  848317680452894720  You can barely see it but look carefully for t...   \n\n      withheld  \n0          NaN  \n1          NaN  \n2          NaN  \n3          NaN  \n4          NaN  \n...        ...  \n50393      NaN  \n50394      NaN  \n50395      NaN  \n50396      NaN  \n50397      NaN  \n\n[50398 rows x 3 columns]",
      "text/html": "<div>\n<style scoped>\n    .dataframe tbody tr th:only-of-type {\n        vertical-align: middle;\n    }\n\n    .dataframe tbody tr th {\n        vertical-align: top;\n    }\n\n    .dataframe thead th {\n        text-align: right;\n    }\n</style>\n<table border=\"1\" class=\"dataframe\">\n  <thead>\n    <tr style=\"text-align: right;\">\n      <th></th>\n      <th>id</th>\n      <th>text</th>\n      <th>withheld</th>\n    </tr>\n  </thead>\n  <tbody>\n    <tr>\n      <th>0</th>\n      <td>850490912954351616</td>\n      <td>Alex Brosas another idiot #ALDUBKSGoesToUS  ht...</td>\n      <td>NaN</td>\n    </tr>\n    <tr>\n      <th>1</th>\n      <td>848791766853668864</td>\n      <td>RT @ItIzBiz: as Nancy Reagan would say, 'just ...</td>\n      <td>NaN</td>\n    </tr>\n    <tr>\n      <th>2</th>\n      <td>850010509969465344</td>\n      <td>RT @MailOnline: The Nazi death gas so horrific...</td>\n      <td>NaN</td>\n    </tr>\n    <tr>\n      <th>3</th>\n      <td>850433664890544128</td>\n      <td>I hate er chase because if the Bitch that work...</td>\n      <td>NaN</td>\n    </tr>\n    <tr>\n      <th>4</th>\n      <td>850100742035836929</td>\n      <td>RT @nyctophil3: Pineapples do not belong on pi...</td>\n      <td>NaN</td>\n    </tr>\n    <tr>\n      <th>...</th>\n      <td>...</td>\n      <td>...</td>\n      <td>...</td>\n    </tr>\n    <tr>\n      <th>50393</th>\n      <td>850773885847056385</td>\n      <td>There's a stop and search underway on the A316...</td>\n      <td>NaN</td>\n    </tr>\n    <tr>\n      <th>50394</th>\n      <td>848365063517982720</td>\n      <td>@gerbsch78 And now, his singing of that Seal s...</td>\n      <td>NaN</td>\n    </tr>\n    <tr>\n      <th>50395</th>\n      <td>848569917527994370</td>\n      <td>I suppose you'll turn down foreign investment ...</td>\n      <td>NaN</td>\n    </tr>\n    <tr>\n      <th>50396</th>\n      <td>848592994567471105</td>\n      <td>It's your turn to Enter the Stars.\\n\\nWe are g...</td>\n      <td>NaN</td>\n    </tr>\n    <tr>\n      <th>50397</th>\n      <td>848317680452894720</td>\n      <td>You can barely see it but look carefully for t...</td>\n      <td>NaN</td>\n    </tr>\n  </tbody>\n</table>\n<p>50398 rows × 3 columns</p>\n</div>"
     },
     "metadata": {},
     "output_type": "execute_result",
     "execution_count": 91
    }
   ],
   "source": [
    "founta_tweets_pd"
   ],
   "metadata": {
    "collapsed": false,
    "pycharm": {
     "name": "#%%\n",
     "is_executing": false
    }
   }
  },
  {
   "cell_type": "code",
   "execution_count": 92,
   "outputs": [
    {
     "data": {
      "text/plain": "                 tweet_id maj_label  is_hate  is_abusive            id  \\\n0      849667487180259329   abusive        0           1           NaN   \n1      850490912954351616   abusive        0           1  8.504909e+17   \n2      848791766853668864   abusive        0           1  8.487918e+17   \n3      848306464892604416   abusive        0           1           NaN   \n4      850010509969465344    normal        0           0  8.500105e+17   \n...                   ...       ...      ...         ...           ...   \n80079  847640895956459521    normal        0           0           NaN   \n80080  850335795022102530    normal        0           0           NaN   \n80081  848201162717265920    normal        0           0           NaN   \n80082  848939985160077312      spam        0           0           NaN   \n80083  847673586361843713    normal        0           0           NaN   \n\n                                                    text  \n0                                                    NaN  \n1      Alex Brosas another idiot #ALDUBKSGoesToUS  ht...  \n2      RT @ItIzBiz: as Nancy Reagan would say, 'just ...  \n3                                                    NaN  \n4      RT @MailOnline: The Nazi death gas so horrific...  \n...                                                  ...  \n80079                                                NaN  \n80080                                                NaN  \n80081                                                NaN  \n80082                                                NaN  \n80083                                                NaN  \n\n[80084 rows x 6 columns]",
      "text/html": "<div>\n<style scoped>\n    .dataframe tbody tr th:only-of-type {\n        vertical-align: middle;\n    }\n\n    .dataframe tbody tr th {\n        vertical-align: top;\n    }\n\n    .dataframe thead th {\n        text-align: right;\n    }\n</style>\n<table border=\"1\" class=\"dataframe\">\n  <thead>\n    <tr style=\"text-align: right;\">\n      <th></th>\n      <th>tweet_id</th>\n      <th>maj_label</th>\n      <th>is_hate</th>\n      <th>is_abusive</th>\n      <th>id</th>\n      <th>text</th>\n    </tr>\n  </thead>\n  <tbody>\n    <tr>\n      <th>0</th>\n      <td>849667487180259329</td>\n      <td>abusive</td>\n      <td>0</td>\n      <td>1</td>\n      <td>NaN</td>\n      <td>NaN</td>\n    </tr>\n    <tr>\n      <th>1</th>\n      <td>850490912954351616</td>\n      <td>abusive</td>\n      <td>0</td>\n      <td>1</td>\n      <td>8.504909e+17</td>\n      <td>Alex Brosas another idiot #ALDUBKSGoesToUS  ht...</td>\n    </tr>\n    <tr>\n      <th>2</th>\n      <td>848791766853668864</td>\n      <td>abusive</td>\n      <td>0</td>\n      <td>1</td>\n      <td>8.487918e+17</td>\n      <td>RT @ItIzBiz: as Nancy Reagan would say, 'just ...</td>\n    </tr>\n    <tr>\n      <th>3</th>\n      <td>848306464892604416</td>\n      <td>abusive</td>\n      <td>0</td>\n      <td>1</td>\n      <td>NaN</td>\n      <td>NaN</td>\n    </tr>\n    <tr>\n      <th>4</th>\n      <td>850010509969465344</td>\n      <td>normal</td>\n      <td>0</td>\n      <td>0</td>\n      <td>8.500105e+17</td>\n      <td>RT @MailOnline: The Nazi death gas so horrific...</td>\n    </tr>\n    <tr>\n      <th>...</th>\n      <td>...</td>\n      <td>...</td>\n      <td>...</td>\n      <td>...</td>\n      <td>...</td>\n      <td>...</td>\n    </tr>\n    <tr>\n      <th>80079</th>\n      <td>847640895956459521</td>\n      <td>normal</td>\n      <td>0</td>\n      <td>0</td>\n      <td>NaN</td>\n      <td>NaN</td>\n    </tr>\n    <tr>\n      <th>80080</th>\n      <td>850335795022102530</td>\n      <td>normal</td>\n      <td>0</td>\n      <td>0</td>\n      <td>NaN</td>\n      <td>NaN</td>\n    </tr>\n    <tr>\n      <th>80081</th>\n      <td>848201162717265920</td>\n      <td>normal</td>\n      <td>0</td>\n      <td>0</td>\n      <td>NaN</td>\n      <td>NaN</td>\n    </tr>\n    <tr>\n      <th>80082</th>\n      <td>848939985160077312</td>\n      <td>spam</td>\n      <td>0</td>\n      <td>0</td>\n      <td>NaN</td>\n      <td>NaN</td>\n    </tr>\n    <tr>\n      <th>80083</th>\n      <td>847673586361843713</td>\n      <td>normal</td>\n      <td>0</td>\n      <td>0</td>\n      <td>NaN</td>\n      <td>NaN</td>\n    </tr>\n  </tbody>\n</table>\n<p>80084 rows × 6 columns</p>\n</div>"
     },
     "metadata": {},
     "output_type": "execute_result",
     "execution_count": 92
    }
   ],
   "source": [
    "founta_twitter = founta.merge(founta_tweets_pd[['id','text']],left_on='tweet_id', right_on='id', how='left') #79996 rows originally, only able to retrieve 50398 tweets\n",
    "founta_twitter"
   ],
   "metadata": {
    "collapsed": false,
    "pycharm": {
     "name": "#%%\n",
     "is_executing": false
    }
   }
  },
  {
   "cell_type": "code",
   "execution_count": 88,
   "outputs": [
    {
     "data": {
      "text/plain": "id       int64\ntext    object\ndtype: object"
     },
     "metadata": {},
     "output_type": "execute_result",
     "execution_count": 88
    }
   ],
   "source": [
    "\n",
    "founta_tweets_pd['text'] = founta_tweets_pd['text'].astype('str')\n",
    "founta_tweets_pd[['id','text']].dtypes"
   ],
   "metadata": {
    "collapsed": false,
    "pycharm": {
     "name": "#%%\n",
     "is_executing": false
    }
   }
  },
  {
   "cell_type": "code",
   "execution_count": 98,
   "outputs": [],
   "source": [
    "founta_twitter.dropna(inplace=True)\n",
    "founta_twitter.drop(columns=['id'])\n",
    "founta_twitter.to_csv(f'{OUTPUT_DIRECTORY}/twitter_datasets/founta/with_tweets.csv')"
   ],
   "metadata": {
    "collapsed": false,
    "pycharm": {
     "name": "#%%\n",
     "is_executing": false
    }
   }
  },
  {
   "cell_type": "code",
   "source": [
    "founta_twitter['cleaned_tweet'] = raw_data.apply(lambda row: preprocess(row['text']), axis=1)\n",
    "founta_twitter"
   ],
   "metadata": {
    "collapsed": false,
    "pycharm": {
     "name": "#%%\n",
     "is_executing": false
    }
   },
   "execution_count": 97,
   "outputs": [
    {
     "traceback": [
      "\u001b[1;31m---------------------------------------------------------------------------\u001b[0m",
      "\u001b[1;31mTypeError\u001b[0m                                 Traceback (most recent call last)",
      "\u001b[1;32m~\\Anaconda3\\lib\\site-packages\\pandas\\core\\indexes\\base.py\u001b[0m in \u001b[0;36mget_value\u001b[1;34m(self, series, key)\u001b[0m\n\u001b[0;32m   4409\u001b[0m             \u001b[1;32mtry\u001b[0m\u001b[1;33m:\u001b[0m\u001b[1;33m\u001b[0m\u001b[1;33m\u001b[0m\u001b[0m\n\u001b[1;32m-> 4410\u001b[1;33m                 \u001b[1;32mreturn\u001b[0m \u001b[0mlibindex\u001b[0m\u001b[1;33m.\u001b[0m\u001b[0mget_value_at\u001b[0m\u001b[1;33m(\u001b[0m\u001b[0ms\u001b[0m\u001b[1;33m,\u001b[0m \u001b[0mkey\u001b[0m\u001b[1;33m)\u001b[0m\u001b[1;33m\u001b[0m\u001b[1;33m\u001b[0m\u001b[0m\n\u001b[0m\u001b[0;32m   4411\u001b[0m             \u001b[1;32mexcept\u001b[0m \u001b[0mIndexError\u001b[0m\u001b[1;33m:\u001b[0m\u001b[1;33m\u001b[0m\u001b[1;33m\u001b[0m\u001b[0m\n",
      "\u001b[1;32mpandas\\_libs\\index.pyx\u001b[0m in \u001b[0;36mpandas._libs.index.get_value_at\u001b[1;34m()\u001b[0m\n",
      "\u001b[1;32mpandas\\_libs\\index.pyx\u001b[0m in \u001b[0;36mpandas._libs.index.get_value_at\u001b[1;34m()\u001b[0m\n",
      "\u001b[1;32mpandas\\_libs\\util.pxd\u001b[0m in \u001b[0;36mpandas._libs.util.get_value_at\u001b[1;34m()\u001b[0m\n",
      "\u001b[1;32mpandas\\_libs\\util.pxd\u001b[0m in \u001b[0;36mpandas._libs.util.validate_indexer\u001b[1;34m()\u001b[0m\n",
      "\u001b[1;31mTypeError\u001b[0m: 'str' object cannot be interpreted as an integer",
      "\nDuring handling of the above exception, another exception occurred:\n",
      "\u001b[1;31mKeyError\u001b[0m                                  Traceback (most recent call last)",
      "\u001b[1;32m<ipython-input-97-0fec9728e546>\u001b[0m in \u001b[0;36m<module>\u001b[1;34m\u001b[0m\n\u001b[1;32m----> 1\u001b[1;33m \u001b[0mfounta_twitter\u001b[0m\u001b[1;33m[\u001b[0m\u001b[1;34m'cleaned_tweet'\u001b[0m\u001b[1;33m]\u001b[0m \u001b[1;33m=\u001b[0m \u001b[0mraw_data\u001b[0m\u001b[1;33m.\u001b[0m\u001b[0mapply\u001b[0m\u001b[1;33m(\u001b[0m\u001b[1;32mlambda\u001b[0m \u001b[0mrow\u001b[0m\u001b[1;33m:\u001b[0m \u001b[0mpreprocess\u001b[0m\u001b[1;33m(\u001b[0m\u001b[0mrow\u001b[0m\u001b[1;33m[\u001b[0m\u001b[1;34m'text'\u001b[0m\u001b[1;33m]\u001b[0m\u001b[1;33m)\u001b[0m\u001b[1;33m,\u001b[0m \u001b[0maxis\u001b[0m\u001b[1;33m=\u001b[0m\u001b[1;36m1\u001b[0m\u001b[1;33m)\u001b[0m\u001b[1;33m\u001b[0m\u001b[1;33m\u001b[0m\u001b[0m\n\u001b[0m\u001b[0;32m      2\u001b[0m \u001b[0mfounta_twitter\u001b[0m\u001b[1;33m\u001b[0m\u001b[1;33m\u001b[0m\u001b[0m\n",
      "\u001b[1;32m~\\Anaconda3\\lib\\site-packages\\pandas\\core\\frame.py\u001b[0m in \u001b[0;36mapply\u001b[1;34m(self, func, axis, raw, result_type, args, **kwds)\u001b[0m\n\u001b[0;32m   6876\u001b[0m             \u001b[0mkwds\u001b[0m\u001b[1;33m=\u001b[0m\u001b[0mkwds\u001b[0m\u001b[1;33m,\u001b[0m\u001b[1;33m\u001b[0m\u001b[1;33m\u001b[0m\u001b[0m\n\u001b[0;32m   6877\u001b[0m         )\n\u001b[1;32m-> 6878\u001b[1;33m         \u001b[1;32mreturn\u001b[0m \u001b[0mop\u001b[0m\u001b[1;33m.\u001b[0m\u001b[0mget_result\u001b[0m\u001b[1;33m(\u001b[0m\u001b[1;33m)\u001b[0m\u001b[1;33m\u001b[0m\u001b[1;33m\u001b[0m\u001b[0m\n\u001b[0m\u001b[0;32m   6879\u001b[0m \u001b[1;33m\u001b[0m\u001b[0m\n\u001b[0;32m   6880\u001b[0m     \u001b[1;32mdef\u001b[0m \u001b[0mapplymap\u001b[0m\u001b[1;33m(\u001b[0m\u001b[0mself\u001b[0m\u001b[1;33m,\u001b[0m \u001b[0mfunc\u001b[0m\u001b[1;33m)\u001b[0m \u001b[1;33m->\u001b[0m \u001b[1;34m\"DataFrame\"\u001b[0m\u001b[1;33m:\u001b[0m\u001b[1;33m\u001b[0m\u001b[1;33m\u001b[0m\u001b[0m\n",
      "\u001b[1;32m~\\Anaconda3\\lib\\site-packages\\pandas\\core\\apply.py\u001b[0m in \u001b[0;36mget_result\u001b[1;34m(self)\u001b[0m\n\u001b[0;32m    184\u001b[0m             \u001b[1;32mreturn\u001b[0m \u001b[0mself\u001b[0m\u001b[1;33m.\u001b[0m\u001b[0mapply_raw\u001b[0m\u001b[1;33m(\u001b[0m\u001b[1;33m)\u001b[0m\u001b[1;33m\u001b[0m\u001b[1;33m\u001b[0m\u001b[0m\n\u001b[0;32m    185\u001b[0m \u001b[1;33m\u001b[0m\u001b[0m\n\u001b[1;32m--> 186\u001b[1;33m         \u001b[1;32mreturn\u001b[0m \u001b[0mself\u001b[0m\u001b[1;33m.\u001b[0m\u001b[0mapply_standard\u001b[0m\u001b[1;33m(\u001b[0m\u001b[1;33m)\u001b[0m\u001b[1;33m\u001b[0m\u001b[1;33m\u001b[0m\u001b[0m\n\u001b[0m\u001b[0;32m    187\u001b[0m \u001b[1;33m\u001b[0m\u001b[0m\n\u001b[0;32m    188\u001b[0m     \u001b[1;32mdef\u001b[0m \u001b[0mapply_empty_result\u001b[0m\u001b[1;33m(\u001b[0m\u001b[0mself\u001b[0m\u001b[1;33m)\u001b[0m\u001b[1;33m:\u001b[0m\u001b[1;33m\u001b[0m\u001b[1;33m\u001b[0m\u001b[0m\n",
      "\u001b[1;32m~\\Anaconda3\\lib\\site-packages\\pandas\\core\\apply.py\u001b[0m in \u001b[0;36mapply_standard\u001b[1;34m(self)\u001b[0m\n\u001b[0;32m    294\u001b[0m             \u001b[1;32mtry\u001b[0m\u001b[1;33m:\u001b[0m\u001b[1;33m\u001b[0m\u001b[1;33m\u001b[0m\u001b[0m\n\u001b[0;32m    295\u001b[0m                 result = libreduction.compute_reduction(\n\u001b[1;32m--> 296\u001b[1;33m                     \u001b[0mvalues\u001b[0m\u001b[1;33m,\u001b[0m \u001b[0mself\u001b[0m\u001b[1;33m.\u001b[0m\u001b[0mf\u001b[0m\u001b[1;33m,\u001b[0m \u001b[0maxis\u001b[0m\u001b[1;33m=\u001b[0m\u001b[0mself\u001b[0m\u001b[1;33m.\u001b[0m\u001b[0maxis\u001b[0m\u001b[1;33m,\u001b[0m \u001b[0mdummy\u001b[0m\u001b[1;33m=\u001b[0m\u001b[0mdummy\u001b[0m\u001b[1;33m,\u001b[0m \u001b[0mlabels\u001b[0m\u001b[1;33m=\u001b[0m\u001b[0mlabels\u001b[0m\u001b[1;33m\u001b[0m\u001b[1;33m\u001b[0m\u001b[0m\n\u001b[0m\u001b[0;32m    297\u001b[0m                 )\n\u001b[0;32m    298\u001b[0m             \u001b[1;32mexcept\u001b[0m \u001b[0mValueError\u001b[0m \u001b[1;32mas\u001b[0m \u001b[0merr\u001b[0m\u001b[1;33m:\u001b[0m\u001b[1;33m\u001b[0m\u001b[1;33m\u001b[0m\u001b[0m\n",
      "\u001b[1;32mpandas\\_libs\\reduction.pyx\u001b[0m in \u001b[0;36mpandas._libs.reduction.compute_reduction\u001b[1;34m()\u001b[0m\n",
      "\u001b[1;32mpandas\\_libs\\reduction.pyx\u001b[0m in \u001b[0;36mpandas._libs.reduction.Reducer.get_result\u001b[1;34m()\u001b[0m\n",
      "\u001b[1;32m<ipython-input-97-0fec9728e546>\u001b[0m in \u001b[0;36m<lambda>\u001b[1;34m(row)\u001b[0m\n\u001b[1;32m----> 1\u001b[1;33m \u001b[0mfounta_twitter\u001b[0m\u001b[1;33m[\u001b[0m\u001b[1;34m'cleaned_tweet'\u001b[0m\u001b[1;33m]\u001b[0m \u001b[1;33m=\u001b[0m \u001b[0mraw_data\u001b[0m\u001b[1;33m.\u001b[0m\u001b[0mapply\u001b[0m\u001b[1;33m(\u001b[0m\u001b[1;32mlambda\u001b[0m \u001b[0mrow\u001b[0m\u001b[1;33m:\u001b[0m \u001b[0mpreprocess\u001b[0m\u001b[1;33m(\u001b[0m\u001b[0mrow\u001b[0m\u001b[1;33m[\u001b[0m\u001b[1;34m'text'\u001b[0m\u001b[1;33m]\u001b[0m\u001b[1;33m)\u001b[0m\u001b[1;33m,\u001b[0m \u001b[0maxis\u001b[0m\u001b[1;33m=\u001b[0m\u001b[1;36m1\u001b[0m\u001b[1;33m)\u001b[0m\u001b[1;33m\u001b[0m\u001b[1;33m\u001b[0m\u001b[0m\n\u001b[0m\u001b[0;32m      2\u001b[0m \u001b[0mfounta_twitter\u001b[0m\u001b[1;33m\u001b[0m\u001b[1;33m\u001b[0m\u001b[0m\n",
      "\u001b[1;32m~\\Anaconda3\\lib\\site-packages\\pandas\\core\\series.py\u001b[0m in \u001b[0;36m__getitem__\u001b[1;34m(self, key)\u001b[0m\n\u001b[0;32m    869\u001b[0m         \u001b[0mkey\u001b[0m \u001b[1;33m=\u001b[0m \u001b[0mcom\u001b[0m\u001b[1;33m.\u001b[0m\u001b[0mapply_if_callable\u001b[0m\u001b[1;33m(\u001b[0m\u001b[0mkey\u001b[0m\u001b[1;33m,\u001b[0m \u001b[0mself\u001b[0m\u001b[1;33m)\u001b[0m\u001b[1;33m\u001b[0m\u001b[1;33m\u001b[0m\u001b[0m\n\u001b[0;32m    870\u001b[0m         \u001b[1;32mtry\u001b[0m\u001b[1;33m:\u001b[0m\u001b[1;33m\u001b[0m\u001b[1;33m\u001b[0m\u001b[0m\n\u001b[1;32m--> 871\u001b[1;33m             \u001b[0mresult\u001b[0m \u001b[1;33m=\u001b[0m \u001b[0mself\u001b[0m\u001b[1;33m.\u001b[0m\u001b[0mindex\u001b[0m\u001b[1;33m.\u001b[0m\u001b[0mget_value\u001b[0m\u001b[1;33m(\u001b[0m\u001b[0mself\u001b[0m\u001b[1;33m,\u001b[0m \u001b[0mkey\u001b[0m\u001b[1;33m)\u001b[0m\u001b[1;33m\u001b[0m\u001b[1;33m\u001b[0m\u001b[0m\n\u001b[0m\u001b[0;32m    872\u001b[0m \u001b[1;33m\u001b[0m\u001b[0m\n\u001b[0;32m    873\u001b[0m             \u001b[1;32mif\u001b[0m \u001b[1;32mnot\u001b[0m \u001b[0mis_scalar\u001b[0m\u001b[1;33m(\u001b[0m\u001b[0mresult\u001b[0m\u001b[1;33m)\u001b[0m\u001b[1;33m:\u001b[0m\u001b[1;33m\u001b[0m\u001b[1;33m\u001b[0m\u001b[0m\n",
      "\u001b[1;32m~\\Anaconda3\\lib\\site-packages\\pandas\\core\\indexes\\base.py\u001b[0m in \u001b[0;36mget_value\u001b[1;34m(self, series, key)\u001b[0m\n\u001b[0;32m   4416\u001b[0m                     \u001b[1;32mraise\u001b[0m \u001b[0mInvalidIndexError\u001b[0m\u001b[1;33m(\u001b[0m\u001b[0mkey\u001b[0m\u001b[1;33m)\u001b[0m\u001b[1;33m\u001b[0m\u001b[1;33m\u001b[0m\u001b[0m\n\u001b[0;32m   4417\u001b[0m                 \u001b[1;32melse\u001b[0m\u001b[1;33m:\u001b[0m\u001b[1;33m\u001b[0m\u001b[1;33m\u001b[0m\u001b[0m\n\u001b[1;32m-> 4418\u001b[1;33m                     \u001b[1;32mraise\u001b[0m \u001b[0me1\u001b[0m\u001b[1;33m\u001b[0m\u001b[1;33m\u001b[0m\u001b[0m\n\u001b[0m\u001b[0;32m   4419\u001b[0m             \u001b[1;32mexcept\u001b[0m \u001b[0mException\u001b[0m\u001b[1;33m:\u001b[0m\u001b[1;33m\u001b[0m\u001b[1;33m\u001b[0m\u001b[0m\n\u001b[0;32m   4420\u001b[0m                 \u001b[1;32mraise\u001b[0m \u001b[0me1\u001b[0m\u001b[1;33m\u001b[0m\u001b[1;33m\u001b[0m\u001b[0m\n",
      "\u001b[1;32m~\\Anaconda3\\lib\\site-packages\\pandas\\core\\indexes\\base.py\u001b[0m in \u001b[0;36mget_value\u001b[1;34m(self, series, key)\u001b[0m\n\u001b[0;32m   4402\u001b[0m         \u001b[0mk\u001b[0m \u001b[1;33m=\u001b[0m \u001b[0mself\u001b[0m\u001b[1;33m.\u001b[0m\u001b[0m_convert_scalar_indexer\u001b[0m\u001b[1;33m(\u001b[0m\u001b[0mk\u001b[0m\u001b[1;33m,\u001b[0m \u001b[0mkind\u001b[0m\u001b[1;33m=\u001b[0m\u001b[1;34m\"getitem\"\u001b[0m\u001b[1;33m)\u001b[0m\u001b[1;33m\u001b[0m\u001b[1;33m\u001b[0m\u001b[0m\n\u001b[0;32m   4403\u001b[0m         \u001b[1;32mtry\u001b[0m\u001b[1;33m:\u001b[0m\u001b[1;33m\u001b[0m\u001b[1;33m\u001b[0m\u001b[0m\n\u001b[1;32m-> 4404\u001b[1;33m             \u001b[1;32mreturn\u001b[0m \u001b[0mself\u001b[0m\u001b[1;33m.\u001b[0m\u001b[0m_engine\u001b[0m\u001b[1;33m.\u001b[0m\u001b[0mget_value\u001b[0m\u001b[1;33m(\u001b[0m\u001b[0ms\u001b[0m\u001b[1;33m,\u001b[0m \u001b[0mk\u001b[0m\u001b[1;33m,\u001b[0m \u001b[0mtz\u001b[0m\u001b[1;33m=\u001b[0m\u001b[0mgetattr\u001b[0m\u001b[1;33m(\u001b[0m\u001b[0mseries\u001b[0m\u001b[1;33m.\u001b[0m\u001b[0mdtype\u001b[0m\u001b[1;33m,\u001b[0m \u001b[1;34m\"tz\"\u001b[0m\u001b[1;33m,\u001b[0m \u001b[1;32mNone\u001b[0m\u001b[1;33m)\u001b[0m\u001b[1;33m)\u001b[0m\u001b[1;33m\u001b[0m\u001b[1;33m\u001b[0m\u001b[0m\n\u001b[0m\u001b[0;32m   4405\u001b[0m         \u001b[1;32mexcept\u001b[0m \u001b[0mKeyError\u001b[0m \u001b[1;32mas\u001b[0m \u001b[0me1\u001b[0m\u001b[1;33m:\u001b[0m\u001b[1;33m\u001b[0m\u001b[1;33m\u001b[0m\u001b[0m\n\u001b[0;32m   4406\u001b[0m             \u001b[1;32mif\u001b[0m \u001b[0mlen\u001b[0m\u001b[1;33m(\u001b[0m\u001b[0mself\u001b[0m\u001b[1;33m)\u001b[0m \u001b[1;33m>\u001b[0m \u001b[1;36m0\u001b[0m \u001b[1;32mand\u001b[0m \u001b[1;33m(\u001b[0m\u001b[0mself\u001b[0m\u001b[1;33m.\u001b[0m\u001b[0mholds_integer\u001b[0m\u001b[1;33m(\u001b[0m\u001b[1;33m)\u001b[0m \u001b[1;32mor\u001b[0m \u001b[0mself\u001b[0m\u001b[1;33m.\u001b[0m\u001b[0mis_boolean\u001b[0m\u001b[1;33m(\u001b[0m\u001b[1;33m)\u001b[0m\u001b[1;33m)\u001b[0m\u001b[1;33m:\u001b[0m\u001b[1;33m\u001b[0m\u001b[1;33m\u001b[0m\u001b[0m\n",
      "\u001b[1;32mpandas\\_libs\\index.pyx\u001b[0m in \u001b[0;36mpandas._libs.index.IndexEngine.get_value\u001b[1;34m()\u001b[0m\n",
      "\u001b[1;32mpandas\\_libs\\index.pyx\u001b[0m in \u001b[0;36mpandas._libs.index.IndexEngine.get_value\u001b[1;34m()\u001b[0m\n",
      "\u001b[1;32mpandas\\_libs\\index.pyx\u001b[0m in \u001b[0;36mpandas._libs.index.IndexEngine.get_loc\u001b[1;34m()\u001b[0m\n",
      "\u001b[1;32mpandas\\_libs\\hashtable_class_helper.pxi\u001b[0m in \u001b[0;36mpandas._libs.hashtable.PyObjectHashTable.get_item\u001b[1;34m()\u001b[0m\n",
      "\u001b[1;32mpandas\\_libs\\hashtable_class_helper.pxi\u001b[0m in \u001b[0;36mpandas._libs.hashtable.PyObjectHashTable.get_item\u001b[1;34m()\u001b[0m\n",
      "\u001b[1;31mKeyError\u001b[0m: 'text'"
     ],
     "ename": "KeyError",
     "evalue": "'text'",
     "output_type": "error"
    }
   ]
  },
  {
   "cell_type": "code",
   "execution_count": null,
   "outputs": [],
   "source": [
    "\n"
   ],
   "metadata": {
    "collapsed": false,
    "pycharm": {
     "name": "#%%\n"
    }
   }
  }
 ],
 "metadata": {
  "language_info": {
   "codemirror_mode": {
    "name": "ipython",
    "version": 2
   },
   "file_extension": ".py",
   "mimetype": "text/x-python",
   "name": "python",
   "nbconvert_exporter": "python",
   "pygments_lexer": "ipython2",
   "version": "2.7.6"
  },
  "kernelspec": {
   "name": "pycharm-7db20ed5",
   "language": "python",
   "display_name": "PyCharm (DelayedFlights)"
  },
  "pycharm": {
   "stem_cell": {
    "cell_type": "raw",
    "source": [],
    "metadata": {
     "collapsed": false
    }
   }
  }
 },
 "nbformat": 4,
 "nbformat_minor": 0
}