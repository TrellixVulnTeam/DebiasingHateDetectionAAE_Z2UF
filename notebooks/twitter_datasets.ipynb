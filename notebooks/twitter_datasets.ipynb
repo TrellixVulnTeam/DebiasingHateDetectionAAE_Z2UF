{
 "cells": [
  {
   "cell_type": "code",
   "execution_count": 2,
   "outputs": [],
   "source": [
    "import os\n",
    "import sys\n",
    "import pandas as pd\n",
    "from sklearn.model_selection import train_test_split\n",
    "sys.path.insert(0, os.path.abspath('../')) # needed to import src\n",
    "from src.data_cleaning import WaseemTwitterPreparer, DavidsonTwitterPreparer, FountaTwitterPreparer, \\\n",
    "    GolbeckTwitterPreparer\n",
    "OUTPUT_DIRECTORY = '../data'"
   ],
   "metadata": {
    "collapsed": false,
    "pycharm": {
     "name": "#%%\n",
     "is_executing": false
    }
   }
  },
  {
   "cell_type": "code",
   "execution_count": 63,
   "outputs": [
    {
     "name": "stderr",
     "text": [
      "10/25/2020 11:04:47 PM Uncleaned Twitter Davidson Shape: (24783, 6)\n"
     ],
     "output_type": "stream"
    }
   ],
   "source": [
    "davidson_preparer = DavidsonTwitterPreparer(verbose=True, path_to_raw='../data/twitter_datasets/davidson/davidson_labelled.csv')\n",
    "davidson_preparer.load_data()\n",
    "davidson_preparer.prepare_data()"
   ],
   "metadata": {
    "collapsed": false,
    "pycharm": {
     "name": "#%%\n",
     "is_executing": false
    }
   }
  },
  {
   "cell_type": "code",
   "source": [
    "\n",
    "waseem_preparer = WaseemTwitterPreparer(verbose=True, path_to_raw=['../data/twitter_datasets/waseem/NAACL_SRW_2016.csv', '../data/twitter_datasets/waseem/NLP+CSS_2016.csv'])\n",
    "waseem_preparer.load_data()\n",
    "waseem_preparer.prepare_data()\n"
   ],
   "metadata": {
    "collapsed": false,
    "pycharm": {
     "name": "#%%\n",
     "is_executing": false
    }
   },
   "execution_count": 64,
   "outputs": [
    {
     "name": "stderr",
     "text": [
      "C:\\Users\\matan\\Anaconda3\\lib\\site-packages\\IPython\\core\\interactiveshell.py:3254: DtypeWarning: Columns (47,48,49,50,51,52,53,54,55,56,57,58,59,60,61,62,63,64,65,66,67,68,69,70,71,72,73,74,75,76,77,78,79,80,81,82,83,84,85,86,87,88,89,90,91,92,93,94,95,96,97,98,99,100,101,102,103,104,105,106,107,108,109,110,111,112,113,114,115,116,117,118,119,120,121,122,123,124,125,126,127,128,129,130,131,132,133,134,135,136,137,138,139,140,141,142,143,144,145,146,147,148,149,150,151,152,153,154,155,156,157,158,159,160,161,162,163,164,165,166,167,168,169,170,171,172,173,174,175,176,177,178,179,180,181,182,183,184,185,186,187,188,189,190,191,192,193,194,195,196,197,198,199,200,201,202,203,204,205,206,207,208,209,210,211,212,213,214,215,216,217,218,219,220,221,222,223,224,225,226,227,228,229,230,231,232,233,234,235,236,237,238,239,240,241,242,243,244,245,246,247,248,249,250,251,252,253,254,255,256,257,258,259,260,261,262,263,264,265,266,267,268,269,270,271,272,273,274,275,276,277,278,279,280,281,282,283,284,285,286,287,288,289,290,291,292,293,294,295,296,297,298,299,300,301,302,303,304,305,306,307,308,309,310,311,312,313,314,315,316,317,318,319,320,321,322,323,324,325,326,327,328,329,330,331,332,333,334,335,336,337,338,339,340,341,342,343,344,345,346,347,348,349,350,351,352,353,354,355,356,357,358,359,360,361,362,363,364,365,366,367,368,369,370,371,372,373,374,375,376,377,378,379,380,381,382,383,384,385,386,387,388,389,390,391,392,393,394,395,396,397,398,399,400,401,402,403,404,405,406,407,408,409,410,411,412,413,414,415,416,417,418,419,420,421,422,423,424,425,426,427,428,429,430,431,432,433,434,435,436,437,438,439,440,441,442,443,444,445,446,447,448,449,450,451,452,453,454,455,456,457,458,459,460,461,462,463,464,465,466,467,468,469,470,471,472,473,474,475,476,477,478,479,480,481,482,483,484,485,486,487,488,489,490,491,492,493,494,495,496,497,498,499,500,501,502,503,504,505,506,507,508,509,510,511,512,513,514,515,516,517,518,519,520,521,522,523,524,525,526,527,528,529,530,531,532,533,534,535,536,537,538,539,540,541,542,543,544,545,546,547,548,549,550,551,552,553,554,555,556,557,558,559,560,561,562,563,564,565,566,567,568,569,570,571,572,573,574,575,576,577,578,579,580,581,582,583,584,585,586,587,588,589,590,591,592,593,594,595,596,597,598,599,600,601,602,603,604,605,606,607,608,609,610,611,612,613,614,615,616,617,618,619,620,621,622,623,624,625,626,627,628,629,630,631,632,633,634,635,636,637,638,639,640,641,642,643,644,645,646,647,648,649,650,651,652,653,654,655,656,657,658,659,660,661,662,663,664,665,666,667,668,669,670,671,672,673,674,675,676,677,678,679,680,681,682,683,684,685,686,687,688,689,690,691,692,693,694,695,696,697,698,699,700,701,702,703,704,705,706,707,708,709,710,711,712,713,714,715,716,717,718,719,720,721,722,723,724,725,726,727,728,729,730,731,732,733,734,735,736,737,738,739,740,741,742,743,744,745,746,747,748,749,750,751,752,753,754,755,756,757,758,759,760,761,762,763,764,765,766,767,768,769,770,771,772,773,774,775,776,777,778,779,780,781,782,783,784,785,786,787,788,789,790,791,792,793,794,795,796,797,798,799,800,801,802,803,804,805,806,807,808,809,810,811,812,813,814,815,816,817,818,819,820,821,822,823,824,825,826,827,828,829,830,831,832,833,834,835,836,837,838,839,840,841,842,843,844,845,846,847,848,849,850,851,852,853,854,855,856,857,858,859,860,861,862,863,864,865,866,867,868,869,870,871,872,873,874,875,876,877,878,879,880,881,882,883,884,885,886,887,888,889,890,891,892,893,894,895,896,897,898,899,900,901,902,903,904,905,906,907,908,909,910,911,912,913,914,915,916,917,918,919,920,921,922,923,924,925,926,927,928,929,930,931,932,933,934,935,936,937,938,939,940,941,942,943,944,945,946,947,948,949,950,951,952,953,954,955,956,957,958,959,960,961,962,963,964,965,966,967,968,969,970,971,972,973,974,975,976,977,978,979,980,981,982,983,984,985,986,987,988,989,990,991,992,993,994,995,996,997,998,999,1000,1001,1002,1003,1004,1005,1006,1007,1008,1009,1010,1011,1012,1013,1014,1015,1016,1017,1018,1019,1020,1021,1022,1023,1024,1025,1026,1027,1028,1029,1030,1031,1032,1033,1034,1035,1036,1037,1038,1039,1040,1041,1042,1043,1044,1045,1046,1047,1048,1049,1050,1051,1052,1053,1054,1055,1056,1057,1058,1059,1060,1061,1062,1063,1064,1065,1066,1067,1068,1069,1070,1071,1072,1073,1074,1075,1076,1077,1078,1079,1080,1081,1082,1083,1084,1085,1086,1087,1088,1089,1090,1091) have mixed types.Specify dtype option on import or set low_memory=False.\n  if (await self.run_code(code, result,  async_=asy)):\n",
      "C:\\Users\\matan\\Anaconda3\\lib\\site-packages\\pandas\\core\\indexing.py:671: SettingWithCopyWarning: \nA value is trying to be set on a copy of a slice from a DataFrame\n\nSee the caveats in the documentation: https://pandas.pydata.org/pandas-docs/stable/user_guide/indexing.html#returning-a-view-versus-a-copy\n  self._setitem_with_indexer(indexer, value)\n10/25/2020 11:04:50 PM Uncleaned NAACL_SRW_2016 Waseem Hovy Shape: (16908, 2)\n",
      "10/25/2020 11:04:50 PM Uncleaned NLP+CSS 2016 Waseem Shape: (6910, 2)\n",
      "10/25/2020 11:04:50 PM Merged uncleaned Waseem Shape: (23818, 2)\n"
     ],
     "output_type": "stream"
    }
   ]
  },
  {
   "cell_type": "code",
   "execution_count": 65,
   "outputs": [
    {
     "name": "stderr",
     "text": [
      "10/25/2020 11:04:51 PM Uncleaned Twitter Golbeck Shape: (20360, 2)\n"
     ],
     "output_type": "stream"
    }
   ],
   "source": [
    "golbeck_preparer = GolbeckTwitterPreparer(verbose=True, path_to_raw='../data/twitter_datasets/golbeck/onlineHarassmentDataset.csv')\n",
    "golbeck_preparer.load_data()\n",
    "golbeck_preparer.prepare_data()"
   ],
   "metadata": {
    "collapsed": false,
    "pycharm": {
     "name": "#%%\n",
     "is_executing": false
    }
   }
  },
  {
   "cell_type": "code",
   "execution_count": 66,
   "outputs": [
    {
     "name": "stderr",
     "text": [
      "10/25/2020 11:04:51 PM Uncleaned Twitter Founta Shape: (80000, 2)\n"
     ],
     "output_type": "stream"
    }
   ],
   "source": [
    "founta_preparer = FountaTwitterPreparer(verbose=True, path_to_raw='../data/twitter_datasets/founta/hatespeechtwitter.csv')\n",
    "founta_preparer.load_data()\n",
    "founta_preparer.prepare_data()"
   ],
   "metadata": {
    "collapsed": false,
    "pycharm": {
     "name": "#%%\n",
     "is_executing": false
    }
   }
  },
  {
   "cell_type": "code",
   "execution_count": 67,
   "outputs": [],
   "source": [
    "founta = founta_preparer.get_cleaned_data()\n",
    "davidson = davidson_preparer.get_cleaned_data()\n",
    "waseem = waseem_preparer.get_cleaned_data()\n",
    "golbeck = golbeck_preparer.get_cleaned_data()"
   ],
   "metadata": {
    "collapsed": false,
    "pycharm": {
     "name": "#%%\n",
     "is_executing": false
    }
   }
  },
  {
   "cell_type": "code",
   "execution_count": 68,
   "outputs": [],
   "source": [
    "founta.loc[:,'original_ds'] = 'founta'\n",
    "davidson.loc[:,'original_ds'] = 'davidson'\n",
    "waseem.loc[:,'original_ds'] = 'waseem'\n",
    "golbeck.loc[:,'original_ds'] = 'golbeck'"
   ],
   "metadata": {
    "collapsed": false,
    "pycharm": {
     "name": "#%%\n",
     "is_executing": false
    }
   }
  },
  {
   "cell_type": "code",
   "execution_count": 69,
   "outputs": [
    {
     "name": "stdout",
     "text": [
      "founta -  shape: (50487, 10)  - label distribution: 0.037 - columns: Index(['tweet_id', 'maj_label', 'is_hate', 'is_abusive', 'id', 'text',\n       'cleaned_tweet', 'dialect_prs', 'is_aae', 'original_ds'],\n      dtype='object')\ndavidson -  shape: (24783, 12)  - label distribution: 0.058 - columns: Index(['count', 'hate_speech', 'offensive_language', 'neither', 'class',\n       'tweet', 'cleaned_tweet', 'is_hate', 'is_offensive', 'dialect_prs',\n       'is_aae', 'original_ds'],\n      dtype='object')\nwaseem -  shape: (16631, 11)  - label distribution: 0.204 - columns: Index(['tweet_id', 'label', 'is_racism', 'is_sexism', 'is_hate', 'id', 'text',\n       'cleaned_tweet', 'dialect_prs', 'is_aae', 'original_ds'],\n      dtype='object')\ngolbeck -  shape: (19718, 7)  - label distribution: 0.241 - columns: Index(['Code', 'Tweet', 'is_hate', 'cleaned_tweet', 'dialect_prs', 'is_aae',\n       'original_ds'],\n      dtype='object')\n"
     ],
     "output_type": "stream"
    }
   ],
   "source": [
    "print('founta -  shape:', founta.shape, ' - label distribution:', round((founta[founta['is_hate']==1].shape[0] / founta.shape[0]), 3), '- columns:',founta.columns)\n",
    "print('davidson -  shape:', davidson.shape, ' - label distribution:', round((davidson[davidson['is_hate']==1].shape[0] / davidson.shape[0]), 3), '- columns:', davidson.columns)\n",
    "print('waseem -  shape:', waseem.shape, ' - label distribution:', round((waseem[waseem['is_hate']==1].shape[0] / waseem.shape[0]), 3), '- columns:', waseem.columns)\n",
    "print('golbeck -  shape:', golbeck.shape, ' - label distribution:', round((golbeck[golbeck['is_hate']==1].shape[0] / golbeck.shape[0]), 3), '- columns:', golbeck.columns)\n",
    "# Waiting for Founta to respond to my email as 30k tweets are missing from dataset, many more is_hate"
   ],
   "metadata": {
    "collapsed": false,
    "pycharm": {
     "name": "#%%\n",
     "is_executing": false
    }
   }
  },
  {
   "cell_type": "code",
   "execution_count": 70,
   "outputs": [
    {
     "data": {
      "text/plain": "Empty DataFrame\nColumns: [tweet_id, maj_label, is_hate_x, is_abusive, id_x, text_x, cleaned_tweet_x, dialect_prs_x, is_aae_x, original_ds_x, label, is_racism, is_sexism, is_hate_y, id_y, text_y, cleaned_tweet_y, dialect_prs_y, is_aae_y, original_ds_y]\nIndex: []",
      "text/html": "<div>\n<style scoped>\n    .dataframe tbody tr th:only-of-type {\n        vertical-align: middle;\n    }\n\n    .dataframe tbody tr th {\n        vertical-align: top;\n    }\n\n    .dataframe thead th {\n        text-align: right;\n    }\n</style>\n<table border=\"1\" class=\"dataframe\">\n  <thead>\n    <tr style=\"text-align: right;\">\n      <th></th>\n      <th>tweet_id</th>\n      <th>maj_label</th>\n      <th>is_hate_x</th>\n      <th>is_abusive</th>\n      <th>id_x</th>\n      <th>text_x</th>\n      <th>cleaned_tweet_x</th>\n      <th>dialect_prs_x</th>\n      <th>is_aae_x</th>\n      <th>original_ds_x</th>\n      <th>label</th>\n      <th>is_racism</th>\n      <th>is_sexism</th>\n      <th>is_hate_y</th>\n      <th>id_y</th>\n      <th>text_y</th>\n      <th>cleaned_tweet_y</th>\n      <th>dialect_prs_y</th>\n      <th>is_aae_y</th>\n      <th>original_ds_y</th>\n    </tr>\n  </thead>\n  <tbody>\n  </tbody>\n</table>\n</div>"
     },
     "metadata": {},
     "output_type": "execute_result",
     "execution_count": 70
    }
   ],
   "source": [
    "founta.merge(waseem, how='inner', on='tweet_id') # no overlap on tweet_id"
   ],
   "metadata": {
    "collapsed": false,
    "pycharm": {
     "name": "#%%\n",
     "is_executing": false
    }
   }
  },
  {
   "cell_type": "code",
   "execution_count": 71,
   "outputs": [],
   "source": [
    "davidson.rename(columns={\"tweet\":\"text\"},inplace=True)\n",
    "golbeck.rename(columns={\"Tweet\":\"text\"},inplace=True)\n",
    "overlap_cols = list(set(founta.columns).intersection(set(davidson.columns), set(waseem.columns),set(golbeck.columns)))"
   ],
   "metadata": {
    "collapsed": false,
    "pycharm": {
     "name": "#%%\n",
     "is_executing": false
    }
   }
  },
  {
   "cell_type": "code",
   "execution_count": 72,
   "outputs": [],
   "source": [
    "merged_df = pd.concat([founta, davidson, waseem, golbeck])"
   ],
   "metadata": {
    "collapsed": false,
    "pycharm": {
     "name": "#%%\n",
     "is_executing": false
    }
   }
  },
  {
   "cell_type": "code",
   "execution_count": 83,
   "outputs": [],
   "source": [
    "merged_df = merged_df[overlap_cols]\n",
    "merged_df.drop_duplicates(inplace=True, subset=['cleaned_tweet']) #7338 duplicate tweets\n",
    "merged_df.to_csv('../data/twitter_datasets/cleaned/all_datasets_merged.csv',index=False)"
   ],
   "metadata": {
    "collapsed": false,
    "pycharm": {
     "name": "#%%\n",
     "is_executing": false
    }
   }
  },
  {
   "cell_type": "code",
   "execution_count": 74,
   "outputs": [
    {
     "data": {
      "text/plain": "       is_aae                                    dialect_prs  is_hate  \\\n0           0  [0.10533575 0.36970896 0.09850918 0.42644611]        0   \n1           0  [0.16670355 0.37222626 0.12378758 0.3372826 ]        0   \n2           0  [0.06410871 0.12914915 0.16314298 0.64359916]        0   \n3           0  [0.16246387 0.31474683 0.01293354 0.50985576]        1   \n4           0  [0.56263761 0.19150091 0.09204273 0.15381875]        1   \n...       ...                                            ...      ...   \n19713       0  [0.14449078 0.16982948 0.24125604 0.4444237 ]        1   \n19714       0  [0.05411577 0.10954312 0.01288798 0.82345312]        1   \n19715       0  [0.17427205 0.34565292 0.09695176 0.38312327]        1   \n19716       0  [0.09649005 0.69237505 0.00770617 0.20342874]        1   \n19717       0  [0.1074874  0.1738394  0.03857949 0.68009371]        1   \n\n                                                    text original_ds  \\\n0      Alex Brosas another idiot #ALDUBKSGoesToUS  ht...      founta   \n1      RT @ItIzBiz: as Nancy Reagan would say, 'just ...      founta   \n2      RT @MailOnline: The Nazi death gas so horrific...      founta   \n3      I hate er chase because if the Bitch that work...      founta   \n4      RT @nyctophil3: Pineapples do not belong on pi...      founta   \n...                                                  ...         ...   \n19713  Wise words by Ben Shapiro https: / /t.co /ldBj...     golbeck   \n19714  Women are much more likely to be liberals than...     golbeck   \n19715  Would you like me to release to you this King ...     golbeck   \n19716  You Fucking Nigger You Did It To Yourself You ...     golbeck   \n19717  Your descendants, the Jews, will be doomed to ...     golbeck   \n\n                                           cleaned_tweet  \n0            Alex Brosas another idiot #ALDUBKSGoesToUS   \n1      RT : as Nancy Reagan would say, 'just say FUCK...  \n2      RT : The Nazi death gas so horrific even Hitle...  \n3      I hate er chase because if the Bitch that work...  \n4      RT : Pineapples do not belong on pizza. Y'all ...  \n...                                                  ...  \n19713  Wise words by Ben Shapiro https: / /t.co /ldBj...  \n19714  Women are much more likely to be liberals than...  \n19715  Would you like me to release to you this King ...  \n19716  You Fucking Nigger You Did It To Yourself You ...  \n19717  Your descendants, the Jews, will be doomed to ...  \n\n[104281 rows x 6 columns]",
      "text/html": "<div>\n<style scoped>\n    .dataframe tbody tr th:only-of-type {\n        vertical-align: middle;\n    }\n\n    .dataframe tbody tr th {\n        vertical-align: top;\n    }\n\n    .dataframe thead th {\n        text-align: right;\n    }\n</style>\n<table border=\"1\" class=\"dataframe\">\n  <thead>\n    <tr style=\"text-align: right;\">\n      <th></th>\n      <th>is_aae</th>\n      <th>dialect_prs</th>\n      <th>is_hate</th>\n      <th>text</th>\n      <th>original_ds</th>\n      <th>cleaned_tweet</th>\n    </tr>\n  </thead>\n  <tbody>\n    <tr>\n      <th>0</th>\n      <td>0</td>\n      <td>[0.10533575 0.36970896 0.09850918 0.42644611]</td>\n      <td>0</td>\n      <td>Alex Brosas another idiot #ALDUBKSGoesToUS  ht...</td>\n      <td>founta</td>\n      <td>Alex Brosas another idiot #ALDUBKSGoesToUS</td>\n    </tr>\n    <tr>\n      <th>1</th>\n      <td>0</td>\n      <td>[0.16670355 0.37222626 0.12378758 0.3372826 ]</td>\n      <td>0</td>\n      <td>RT @ItIzBiz: as Nancy Reagan would say, 'just ...</td>\n      <td>founta</td>\n      <td>RT : as Nancy Reagan would say, 'just say FUCK...</td>\n    </tr>\n    <tr>\n      <th>2</th>\n      <td>0</td>\n      <td>[0.06410871 0.12914915 0.16314298 0.64359916]</td>\n      <td>0</td>\n      <td>RT @MailOnline: The Nazi death gas so horrific...</td>\n      <td>founta</td>\n      <td>RT : The Nazi death gas so horrific even Hitle...</td>\n    </tr>\n    <tr>\n      <th>3</th>\n      <td>0</td>\n      <td>[0.16246387 0.31474683 0.01293354 0.50985576]</td>\n      <td>1</td>\n      <td>I hate er chase because if the Bitch that work...</td>\n      <td>founta</td>\n      <td>I hate er chase because if the Bitch that work...</td>\n    </tr>\n    <tr>\n      <th>4</th>\n      <td>0</td>\n      <td>[0.56263761 0.19150091 0.09204273 0.15381875]</td>\n      <td>1</td>\n      <td>RT @nyctophil3: Pineapples do not belong on pi...</td>\n      <td>founta</td>\n      <td>RT : Pineapples do not belong on pizza. Y'all ...</td>\n    </tr>\n    <tr>\n      <th>...</th>\n      <td>...</td>\n      <td>...</td>\n      <td>...</td>\n      <td>...</td>\n      <td>...</td>\n      <td>...</td>\n    </tr>\n    <tr>\n      <th>19713</th>\n      <td>0</td>\n      <td>[0.14449078 0.16982948 0.24125604 0.4444237 ]</td>\n      <td>1</td>\n      <td>Wise words by Ben Shapiro https: / /t.co /ldBj...</td>\n      <td>golbeck</td>\n      <td>Wise words by Ben Shapiro https: / /t.co /ldBj...</td>\n    </tr>\n    <tr>\n      <th>19714</th>\n      <td>0</td>\n      <td>[0.05411577 0.10954312 0.01288798 0.82345312]</td>\n      <td>1</td>\n      <td>Women are much more likely to be liberals than...</td>\n      <td>golbeck</td>\n      <td>Women are much more likely to be liberals than...</td>\n    </tr>\n    <tr>\n      <th>19715</th>\n      <td>0</td>\n      <td>[0.17427205 0.34565292 0.09695176 0.38312327]</td>\n      <td>1</td>\n      <td>Would you like me to release to you this King ...</td>\n      <td>golbeck</td>\n      <td>Would you like me to release to you this King ...</td>\n    </tr>\n    <tr>\n      <th>19716</th>\n      <td>0</td>\n      <td>[0.09649005 0.69237505 0.00770617 0.20342874]</td>\n      <td>1</td>\n      <td>You Fucking Nigger You Did It To Yourself You ...</td>\n      <td>golbeck</td>\n      <td>You Fucking Nigger You Did It To Yourself You ...</td>\n    </tr>\n    <tr>\n      <th>19717</th>\n      <td>0</td>\n      <td>[0.1074874  0.1738394  0.03857949 0.68009371]</td>\n      <td>1</td>\n      <td>Your descendants, the Jews, will be doomed to ...</td>\n      <td>golbeck</td>\n      <td>Your descendants, the Jews, will be doomed to ...</td>\n    </tr>\n  </tbody>\n</table>\n<p>104281 rows × 6 columns</p>\n</div>"
     },
     "metadata": {},
     "output_type": "execute_result",
     "execution_count": 74
    }
   ],
   "source": [
    "merged_df"
   ],
   "metadata": {
    "collapsed": false,
    "pycharm": {
     "name": "#%%\n",
     "is_executing": false
    }
   }
  },
  {
   "cell_type": "code",
   "execution_count": 75,
   "outputs": [
    {
     "data": {
      "text/plain": "['is_aae', 'dialect_prs', 'is_hate', 'text', 'original_ds', 'cleaned_tweet']"
     },
     "metadata": {},
     "output_type": "execute_result",
     "execution_count": 75
    }
   ],
   "source": [
    "overlap_cols"
   ],
   "metadata": {
    "collapsed": false,
    "pycharm": {
     "name": "#%%\n",
     "is_executing": false
    }
   }
  },
  {
   "cell_type": "code",
   "execution_count": 76,
   "outputs": [
    {
     "data": {
      "text/plain": "673"
     },
     "metadata": {},
     "output_type": "execute_result",
     "execution_count": 76
    }
   ],
   "source": [
    "merged_df['is_aae'].sum() #673 maybe too high of a threshold?"
   ],
   "metadata": {
    "collapsed": false,
    "pycharm": {
     "name": "#%%\n",
     "is_executing": false
    }
   }
  },
  {
   "cell_type": "code",
   "execution_count": 81,
   "outputs": [
    {
     "data": {
      "text/plain": "0.10797428769979152"
     },
     "metadata": {},
     "output_type": "execute_result",
     "execution_count": 81
    }
   ],
   "source": [
    "11187/merged_df[merged_df['is_aae']==0].shape[0] # 0.10797428769979152 11187/103608"
   ],
   "metadata": {
    "collapsed": false,
    "pycharm": {
     "name": "#%%\n",
     "is_executing": false
    }
   }
  },
  {
   "cell_type": "code",
   "execution_count": 79,
   "outputs": [
    {
     "data": {
      "text/plain": "0.06686478454680535"
     },
     "metadata": {},
     "output_type": "execute_result",
     "execution_count": 79
    }
   ],
   "source": [
    "45/merged_df[merged_df['is_aae']==1].shape[0] #0.06686478454680535 45/673"
   ],
   "metadata": {
    "collapsed": false,
    "pycharm": {
     "name": "#%%\n",
     "is_executing": false
    }
   }
  },
  {
   "cell_type": "code",
   "execution_count": 87,
   "outputs": [],
   "source": [
    "def _create_test_train_dev_splits(clean_data, tr_size=0.8, dev_test_split=0.5, stratify_label='is_hate'):\n",
    "    train, valid_test = train_test_split(clean_data, train_size=tr_size, random_state=42,\n",
    "                                         stratify=clean_data[[stratify_label]])\n",
    "    test, valid = train_test_split(valid_test, train_size=dev_test_split, random_state=42,\n",
    "                                   stratify=valid_test[stratify_label])\n",
    "\n",
    "    print(f\"Train - # of is_hate: {train[train['is_hate'] == 1].shape[0]}, total instances: \" +\n",
    "                f\"{train.shape[0]}, percent of positive: {train[train['is_hate'] == 1].shape[0] / train.shape[0]}\")\n",
    "    print(f\"Test - # of is_hate: {test[test['is_hate'] == 1].shape[0]}, total instances: \" +\n",
    "                f\"{test.shape[0]}, percent of positive: {test[test['is_hate'] == 1].shape[0] / test.shape[0]}\")\n",
    "    print(f\"Test - # of is_hate: {valid[valid['is_hate'] == 1].shape[0]}, total instances: \" +\n",
    "                    f\"{valid.shape[0]}, percent of positive: {valid[valid['is_hate'] == 1].shape[0] / valid.shape[0]}\")\n",
    "\n",
    "    return train, test, valid\n",
    "\n",
    "def save_test_train_dev_splits(ds):\n",
    "    twitter_train, twitter_valid, twitter_test = _create_test_train_dev_splits(ds, tr_size=0.8,\n",
    "                                                                                    dev_test_split=0.5,\n",
    "                                                                                    stratify_label='is_hate')\n",
    "    # train: 861 7879 0.1093%   test: 214 1962 0.1091    dev: 121 1103 0.1097%\n",
    "\n",
    "    twitter_train.to_csv('../data/twitter_datasets/combined/train.csv', index=False)\n",
    "    twitter_valid.to_csv('../data/twitter_datasets/combined/dev.csv', index=False)\n",
    "    twitter_test.to_csv('../data/twitter_datasets/combined/test.csv', index=False)"
   ],
   "metadata": {
    "collapsed": false,
    "pycharm": {
     "name": "#%%\n",
     "is_executing": false
    }
   }
  },
  {
   "cell_type": "code",
   "execution_count": 88,
   "outputs": [
    {
     "name": "stderr",
     "text": [
      "C:\\Users\\matan\\Anaconda3\\lib\\site-packages\\sklearn\\model_selection\\_split.py:2026: FutureWarning: From version 0.21, test_size will always complement train_size unless both are specified.\n  FutureWarning)\n"
     ],
     "output_type": "stream"
    },
    {
     "name": "stdout",
     "text": [
      "Train - # of is_hate: 8986, total instances: 83424, percent of positive: 0.10771480629075565\nTest - # of is_hate: 1123, total instances: 10428, percent of positive: 0.10769083237437668\nTest - # of is_hate: 1123, total instances: 10429, percent of positive: 0.10768050628056382\n"
     ],
     "output_type": "stream"
    }
   ],
   "source": [
    "\n",
    "save_test_train_dev_splits(merged_df)"
   ],
   "metadata": {
    "collapsed": false,
    "pycharm": {
     "name": "#%%\n",
     "is_executing": false
    }
   }
  },
  {
   "cell_type": "code",
   "execution_count": 5,
   "outputs": [],
   "source": [
    "\n",
    "x = pd.read_csv('../data/nyt_corpus/nyt_data/nyt_keyword_sample/test.csv', index_col=0)"
   ],
   "metadata": {
    "collapsed": false,
    "pycharm": {
     "name": "#%%\n",
     "is_executing": false
    }
   }
  },
  {
   "cell_type": "code",
   "execution_count": 7,
   "outputs": [],
   "source": [
    "x.to_csv('../data/nyt_corpus/nyt_data/nyt_keyword_sample/test.tsv', sep='\\t')"
   ],
   "metadata": {
    "collapsed": false,
    "pycharm": {
     "name": "#%%\n",
     "is_executing": false
    }
   }
  },
  {
   "cell_type": "code",
   "execution_count": null,
   "outputs": [],
   "source": [
    "\n"
   ],
   "metadata": {
    "collapsed": false,
    "pycharm": {
     "name": "#%%\n"
    }
   }
  }
 ],
 "metadata": {
  "language_info": {
   "codemirror_mode": {
    "name": "ipython",
    "version": 2
   },
   "file_extension": ".py",
   "mimetype": "text/x-python",
   "name": "python",
   "nbconvert_exporter": "python",
   "pygments_lexer": "ipython2",
   "version": "2.7.6"
  },
  "kernelspec": {
   "name": "pycharm-7db20ed5",
   "language": "python",
   "display_name": "PyCharm (DelayedFlights)"
  },
  "pycharm": {
   "stem_cell": {
    "cell_type": "raw",
    "source": [],
    "metadata": {
     "collapsed": false
    }
   }
  }
 },
 "nbformat": 4,
 "nbformat_minor": 0
}